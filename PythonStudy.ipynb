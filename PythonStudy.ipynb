{
 "cells": [
  {
   "cell_type": "markdown",
   "id": "b47d0cfb-82ad-4d37-9557-9159ffad813e",
   "metadata": {
    "jp-MarkdownHeadingCollapsed": true,
    "tags": []
   },
   "source": [
    "<h2> 10. Основные методы строк / basic string methods </h2>"
   ]
  },
  {
   "cell_type": "code",
   "execution_count": 5,
   "id": "9cf8cc09-73ea-41f4-ab8b-172556e29ebf",
   "metadata": {},
   "outputs": [
    {
     "data": {
      "text/plain": [
       "'python'"
      ]
     },
     "execution_count": 5,
     "metadata": {},
     "output_type": "execute_result"
    }
   ],
   "source": [
    "s = \"Python\"\n",
    "s.upper()\n",
    "s.lower()"
   ]
  },
  {
   "cell_type": "code",
   "execution_count": 16,
   "id": "670dbb76-7922-4082-9fa9-3ec776d0b56f",
   "metadata": {},
   "outputs": [
    {
     "data": {
      "text/plain": [
       "1"
      ]
     },
     "execution_count": 16,
     "metadata": {},
     "output_type": "execute_result"
    }
   ],
   "source": [
    "msg = \"abrakadabra\"\n",
    "# считаем количество совбпадений\n",
    "msg.count('ra') \n",
    "msg.count('ra', 4)\n",
    "msg.count('ra', 4, 10)\n",
    "msg.count('ra', 4, 11)"
   ]
  },
  {
   "cell_type": "code",
   "execution_count": 17,
   "id": "8ac9a8ae-7d3b-44a5-ab91-06ba744e9585",
   "metadata": {},
   "outputs": [
    {
     "data": {
      "text/plain": [
       "8"
      ]
     },
     "execution_count": 17,
     "metadata": {},
     "output_type": "execute_result"
    }
   ],
   "source": [
    "# нахожим индекс первого совпадения\n",
    "msg.find('br')\n",
    "msg.find('br', 2)\n",
    "# msg.find('brr')"
   ]
  },
  {
   "cell_type": "code",
   "execution_count": 10,
   "id": "15a7593c-bbf5-45c3-a504-e3f0583e2469",
   "metadata": {},
   "outputs": [
    {
     "data": {
      "text/plain": [
       "8"
      ]
     },
     "execution_count": 10,
     "metadata": {},
     "output_type": "execute_result"
    }
   ],
   "source": [
    "# нахожим индекс первого совпадения с конца\n",
    "msg.rfind('br')"
   ]
  },
  {
   "cell_type": "code",
   "execution_count": 19,
   "id": "8c808c74-830b-417c-a8e6-fecb345772d5",
   "metadata": {},
   "outputs": [
    {
     "ename": "ValueError",
     "evalue": "substring not found",
     "output_type": "error",
     "traceback": [
      "\u001b[1;31m---------------------------------------------------------------------------\u001b[0m",
      "\u001b[1;31mValueError\u001b[0m                                Traceback (most recent call last)",
      "Input \u001b[1;32mIn [19]\u001b[0m, in \u001b[0;36m<cell line: 3>\u001b[1;34m()\u001b[0m\n\u001b[0;32m      1\u001b[0m \u001b[38;5;66;03m# тоже самои что и find но вместо -1 выдает исключение\u001b[39;00m\n\u001b[0;32m      2\u001b[0m msg\u001b[38;5;241m.\u001b[39mindex(\u001b[38;5;124m'\u001b[39m\u001b[38;5;124mbr\u001b[39m\u001b[38;5;124m'\u001b[39m)\n\u001b[1;32m----> 3\u001b[0m \u001b[43mmsg\u001b[49m\u001b[38;5;241;43m.\u001b[39;49m\u001b[43mindex\u001b[49m\u001b[43m(\u001b[49m\u001b[38;5;124;43m'\u001b[39;49m\u001b[38;5;124;43mbrr\u001b[39;49m\u001b[38;5;124;43m'\u001b[39;49m\u001b[43m)\u001b[49m\n",
      "\u001b[1;31mValueError\u001b[0m: substring not found"
     ]
    }
   ],
   "source": [
    "# тоже самои что и find но вместо -1 выдает исключение\n",
    "msg.index('br')\n",
    "msg.index('brr')"
   ]
  },
  {
   "cell_type": "code",
   "execution_count": 4,
   "id": "046859bb-e0bf-4a7a-b0c5-2741c89963ea",
   "metadata": {},
   "outputs": [
    {
     "data": {
      "text/plain": [
       "'ragadra'"
      ]
     },
     "execution_count": 4,
     "metadata": {},
     "output_type": "execute_result"
    }
   ],
   "source": [
    "# заменяем указанные буквы\n",
    "msg.replace('a', 'o')\n",
    "msg.replace('b', 'B')\n",
    "x = msg.replace('ab', '').replace('k', 'g')\n",
    "x"
   ]
  },
  {
   "cell_type": "code",
   "execution_count": 21,
   "id": "1317a9dc-d7b7-44cf-a5a3-ff77ddd00f4e",
   "metadata": {},
   "outputs": [
    {
     "data": {
      "text/plain": [
       "False"
      ]
     },
     "execution_count": 21,
     "metadata": {},
     "output_type": "execute_result"
    }
   ],
   "source": [
    "# проверяем буквенность строки\n",
    "msg.isalpha()\n",
    "\"Hallo World\".isalpha()"
   ]
  },
  {
   "cell_type": "code",
   "execution_count": 23,
   "id": "9e8ccf1f-fa7f-41b1-bf79-37554aa4f2b6",
   "metadata": {},
   "outputs": [
    {
     "data": {
      "text/plain": [
       "True"
      ]
     },
     "execution_count": 23,
     "metadata": {},
     "output_type": "execute_result"
    }
   ],
   "source": [
    "# проверяем цифровость строки\n",
    "\"5.6\".isdigit()\n",
    "\"56\".isdigit()\n"
   ]
  },
  {
   "cell_type": "code",
   "execution_count": 5,
   "id": "982a0682-28ad-4e84-b013-f571cbc20ae8",
   "metadata": {},
   "outputs": [
    {
     "data": {
      "text/plain": [
       "'00abc'"
      ]
     },
     "execution_count": 5,
     "metadata": {},
     "output_type": "execute_result"
    }
   ],
   "source": [
    "d = \"abc\"\n",
    "# добавление символов до указзаной значения слева\n",
    "d.rjust(5) \n",
    "d.rjust(5, \"0\")\n"
   ]
  },
  {
   "cell_type": "code",
   "execution_count": 27,
   "id": "4ef466b7-0b72-4b97-a97e-4cbde2d91191",
   "metadata": {},
   "outputs": [
    {
     "data": {
      "text/plain": [
       "'abc  '"
      ]
     },
     "execution_count": 27,
     "metadata": {},
     "output_type": "execute_result"
    }
   ],
   "source": [
    "# добавление символов до указзаной значения справо\n",
    "d.ljust(5)"
   ]
  },
  {
   "cell_type": "code",
   "execution_count": 28,
   "id": "30a7e43b-af09-4863-95ab-34a86e65119e",
   "metadata": {},
   "outputs": [
    {
     "data": {
      "text/plain": [
       "['Лукаш', 'Андрей', 'Александрович']"
      ]
     },
     "execution_count": 28,
     "metadata": {},
     "output_type": "execute_result"
    }
   ],
   "source": [
    "# разделяем строку по символам в список\n",
    "\"Лукаш Андрей Александрович\".split(\" \")"
   ]
  },
  {
   "cell_type": "code",
   "execution_count": 29,
   "id": "df6cd881-33a0-4b34-bfe5-e5ceb5d6098a",
   "metadata": {},
   "outputs": [
    {
     "data": {
      "text/plain": [
       "'1, 2, 3, 4'"
      ]
     },
     "execution_count": 29,
     "metadata": {},
     "output_type": "execute_result"
    }
   ],
   "source": [
    "b = ['1', '2', '3', '4']\n",
    "# переводим список в строку с заданными разделителями\n",
    "', '.join(b)"
   ]
  },
  {
   "cell_type": "code",
   "execution_count": 30,
   "id": "50c1f282-0171-484c-8526-3d41563de4ce",
   "metadata": {},
   "outputs": [
    {
     "data": {
      "text/plain": [
       "'Лакаш, Андрей, Александрович'"
      ]
     },
     "execution_count": 30,
     "metadata": {},
     "output_type": "execute_result"
    }
   ],
   "source": [
    "fio = 'Лакаш Андрей Александрович'\n",
    "', '.join(fio.split())"
   ]
  },
  {
   "cell_type": "code",
   "execution_count": 33,
   "id": "7acc4266-3405-4e07-a7b3-ecb76a8fdfbf",
   "metadata": {},
   "outputs": [
    {
     "data": {
      "text/plain": [
       "'hallo world   \\n'"
      ]
     },
     "execution_count": 33,
     "metadata": {},
     "output_type": "execute_result"
    }
   ],
   "source": [
    "# удалим все пробелы и переносы в начале и конце строки\n",
    "st = \"   hallo world   \\n\"\n",
    "st.strip()\n",
    "st.rstrip()\n",
    "st.lstrip()"
   ]
  },
  {
   "cell_type": "markdown",
   "id": "516e25a7-8d47-463b-b941-6ec24c8e4de9",
   "metadata": {
    "jp-MarkdownHeadingCollapsed": true,
    "tags": []
   },
   "source": [
    "<h2> 15. Основные методы списков / Basic list methods </h2>"
   ]
  },
  {
   "cell_type": "code",
   "execution_count": 1,
   "id": "ac26b7a7-ffa9-4d27-b112-9cb5af11aa2b",
   "metadata": {},
   "outputs": [
    {
     "data": {
      "text/plain": [
       "[1, -54, 3, 23, 43, 100, [1, 2]]"
      ]
     },
     "execution_count": 1,
     "metadata": {},
     "output_type": "execute_result"
    }
   ],
   "source": [
    "a = [1, -54, 3, 23, 43]\n",
    "# добавление элемента в конец списока\n",
    "a.append(100)\n",
    "a.append([1,2])\n",
    "a"
   ]
  },
  {
   "cell_type": "code",
   "execution_count": 6,
   "id": "24bcc099-aef8-4b9a-a725-6e5a2663b436",
   "metadata": {},
   "outputs": [
    {
     "data": {
      "text/plain": [
       "[1, -54, 3, 23, 43, 100, [1, 2], 3, 4]"
      ]
     },
     "execution_count": 6,
     "metadata": {},
     "output_type": "execute_result"
    }
   ],
   "source": [
    "# продление списка\n",
    "a.extend([3,4])\n",
    "a"
   ]
  },
  {
   "cell_type": "code",
   "execution_count": 42,
   "id": "a70047e8-0985-4c75-aa0e-43b5ee66a34d",
   "metadata": {},
   "outputs": [
    {
     "data": {
      "text/plain": [
       "[1, -54, 3, -1000, -1000, -1000, 23, 43, 100, [1, 2]]"
      ]
     },
     "execution_count": 42,
     "metadata": {},
     "output_type": "execute_result"
    }
   ],
   "source": [
    "# добавление элемента на определенную позицию\n",
    "a.insert(3, -1000)\n"
   ]
  },
  {
   "cell_type": "code",
   "execution_count": 8,
   "id": "b91a8830-9d42-4812-99a7-7573e52d27f5",
   "metadata": {},
   "outputs": [
    {
     "data": {
      "text/plain": [
       "[1, -54, 3, 23, 43, 100]"
      ]
     },
     "execution_count": 8,
     "metadata": {},
     "output_type": "execute_result"
    }
   ],
   "source": [
    "# удаление первого совпадающего значения по значению\n",
    "a.remove([1, 2])\n",
    "a"
   ]
  },
  {
   "cell_type": "code",
   "execution_count": null,
   "id": "287f3833-42a7-42a9-ab62-61716224a221",
   "metadata": {},
   "outputs": [
    {
     "data": {
      "text/plain": [
       "[1, 2]"
      ]
     },
     "execution_count": 2,
     "metadata": {},
     "output_type": "execute_result"
    }
   ],
   "source": [
    "# отрыв элемента из списка по индексу\n",
    "a.pop()\n",
    "a.pop(3)"
   ]
  },
  {
   "cell_type": "code",
   "execution_count": 3,
   "id": "0ce15cd0-f59a-4de3-a147-6f46b00f9bcf",
   "metadata": {},
   "outputs": [
    {
     "data": {
      "text/plain": [
       "[]"
      ]
     },
     "execution_count": 3,
     "metadata": {},
     "output_type": "execute_result"
    }
   ],
   "source": [
    "# очистка списка \n",
    "a.clear()\n",
    "a"
   ]
  },
  {
   "cell_type": "code",
   "execution_count": 65,
   "id": "ee09dc5c-0db9-4466-a549-714ef2d5ec7e",
   "metadata": {},
   "outputs": [],
   "source": [
    "# создание копий\n",
    "c = a.copy()\n"
   ]
  },
  {
   "cell_type": "code",
   "execution_count": 66,
   "id": "21f86442-de8d-4f22-88f8-67494c70622e",
   "metadata": {},
   "outputs": [
    {
     "data": {
      "text/plain": [
       "1"
      ]
     },
     "execution_count": 66,
     "metadata": {},
     "output_type": "execute_result"
    }
   ],
   "source": [
    "# поиск количества элементов с заданным значением\n",
    "a.count(1)"
   ]
  },
  {
   "cell_type": "code",
   "execution_count": 69,
   "id": "acbd6f4a-e2f8-4569-8b98-c67d520639f1",
   "metadata": {},
   "outputs": [
    {
     "data": {
      "text/plain": [
       "0"
      ]
     },
     "execution_count": 69,
     "metadata": {},
     "output_type": "execute_result"
    }
   ],
   "source": [
    "#поиск индекса по значению\n",
    "a.index(1)\n",
    "a.index(1, 0) # 0 стартовый индекс поиска"
   ]
  },
  {
   "cell_type": "code",
   "execution_count": null,
   "id": "4c3fcd0d-8fd8-4bda-835e-5fe46a8e6673",
   "metadata": {
    "tags": []
   },
   "outputs": [],
   "source": [
    "# развернуть список\n",
    "a.reverse()\n"
   ]
  },
  {
   "cell_type": "code",
   "execution_count": 78,
   "id": "c24021e5-6716-43a1-a002-81939907455d",
   "metadata": {},
   "outputs": [
    {
     "data": {
      "text/plain": [
       "[-54, 1, 3, 23, 43, 100]"
      ]
     },
     "execution_count": 78,
     "metadata": {},
     "output_type": "execute_result"
    }
   ],
   "source": [
    "# сортировка списка\n",
    "a.sort() # сортирует текущий список\n",
    "a.sort(reverse=True) \n",
    "c = sorted(a) # возвращает отсортированный список\n",
    "c"
   ]
  },
  {
   "cell_type": "markdown",
   "id": "2cf2052b-55a3-4fa0-86e3-5bf4f6b3e2b9",
   "metadata": {
    "jp-MarkdownHeadingCollapsed": true,
    "tags": []
   },
   "source": [
    "<h2> 19. Тернарный условный оператор / Ternary conditional operator</h2>"
   ]
  },
  {
   "cell_type": "code",
   "execution_count": 87,
   "id": "05176f86-e9df-4f31-ab32-04259e6a6623",
   "metadata": {},
   "outputs": [
    {
     "data": {
      "text/plain": [
       "'PYTHON'"
      ]
     },
     "execution_count": 87,
     "metadata": {},
     "output_type": "execute_result"
    }
   ],
   "source": [
    "# быстрое присвоение значения \n",
    "p = \"python\"\n",
    "up = \"upper\"\n",
    "ifupper = p.upper() if up == \"upper\" else p\n"
   ]
  },
  {
   "cell_type": "code",
   "execution_count": 85,
   "id": "e030ed61-92fd-43ac-b461-1119b6012613",
   "metadata": {},
   "outputs": [
    {
     "data": {
      "text/plain": [
       "'a - четное число'"
      ]
     },
     "execution_count": 85,
     "metadata": {},
     "output_type": "execute_result"
    }
   ],
   "source": [
    "# пример использования в строке \n",
    "a = 6\n",
    "\"a - \" + (\"четное\" if a % 2 == 0 else \"нечетное\") + \" число\""
   ]
  },
  {
   "cell_type": "code",
   "execution_count": 81,
   "id": "3dc6217d-eff0-429f-b839-5764300cfffa",
   "metadata": {},
   "outputs": [
    {
     "data": {
      "text/plain": [
       "3"
      ]
     },
     "execution_count": 81,
     "metadata": {},
     "output_type": "execute_result"
    }
   ],
   "source": [
    "# множественные условия\n",
    "a, b, c = 1, 2, 3\n",
    "maximum = (a if a > c else c) if a > b else (b if b > c else c)\n",
    "maximum"
   ]
  },
  {
   "cell_type": "markdown",
   "id": "c1a8d9d8-4fec-4299-bae6-60de9fa6de72",
   "metadata": {
    "jp-MarkdownHeadingCollapsed": true,
    "tags": []
   },
   "source": [
    "<h2>20. Цикл while / Cycle While</h2>"
   ]
  },
  {
   "cell_type": "code",
   "execution_count": 6,
   "id": "30a229ec-a96f-4cca-a069-a0b375286356",
   "metadata": {
    "tags": []
   },
   "outputs": [
    {
     "name": "stdout",
     "output_type": "stream",
     "text": [
      "1\n",
      "2\n",
      "3\n",
      "4\n",
      "5\n",
      "6\n",
      "7\n",
      "8\n",
      "9\n",
      "10\n"
     ]
    }
   ],
   "source": [
    "# посчитаем до 10\n",
    "N = 10\n",
    "i = 0\n",
    "while i < N:\n",
    "    i += 1\n",
    "    print(i)\n"
   ]
  },
  {
   "cell_type": "markdown",
   "id": "7c93ddce-a5d2-42b6-94cb-3fba84471b31",
   "metadata": {
    "jp-MarkdownHeadingCollapsed": true,
    "tags": []
   },
   "source": [
    "<h2> 21. Операторы циклов break, continue, else / Cycle's operators break, continue, else</h2>"
   ]
  },
  {
   "cell_type": "code",
   "execution_count": 8,
   "id": "48c61c27-c119-437a-b3d5-afc252ccc68c",
   "metadata": {},
   "outputs": [
    {
     "name": "stdout",
     "output_type": "stream",
     "text": [
      "0\n",
      "1\n",
      "2\n",
      "3\n",
      "True\n"
     ]
    }
   ],
   "source": [
    "# завершим цикл при нахождении первого четного числа\n",
    "d = [1, 3, 5, 6, -4]\n",
    "FlFind = False\n",
    "i = 0\n",
    "while i < len(d):\n",
    "    print(i)\n",
    "    FlFind = d[i] % 2 == 0\n",
    "    if FlFind:\n",
    "        break\n",
    "    i += 1\n",
    "print(FlFind) "
   ]
  },
  {
   "cell_type": "code",
   "execution_count": 9,
   "id": "e55b7dd6-ef68-4321-bc05-f0c5cd090aab",
   "metadata": {},
   "outputs": [
    {
     "name": "stdin",
     "output_type": "stream",
     "text": [
      "Введеите число:  3\n"
     ]
    },
    {
     "name": "stdout",
     "output_type": "stream",
     "text": [
      "s = 3\n"
     ]
    },
    {
     "name": "stdin",
     "output_type": "stream",
     "text": [
      "Введеите число:  3\n"
     ]
    },
    {
     "name": "stdout",
     "output_type": "stream",
     "text": [
      "s = 6\n"
     ]
    },
    {
     "name": "stdin",
     "output_type": "stream",
     "text": [
      "Введеите число:  0\n"
     ]
    }
   ],
   "source": [
    "# слаживаем все нечетные числа пока не введем 0\n",
    "s = 0 \n",
    "d = 1\n",
    "while d != 0:\n",
    "    d = int(input('Введеите число: '))\n",
    "    if d % 2 == 0:\n",
    "        continue\n",
    "    s += d\n",
    "    print('s = ' + str(s))\n"
   ]
  },
  {
   "cell_type": "code",
   "execution_count": 15,
   "id": "7a5ab843-2edc-4d20-a714-f5912f1db089",
   "metadata": {},
   "outputs": [
    {
     "name": "stdout",
     "output_type": "stream",
     "text": [
      "1\n",
      "3\n",
      "6\n",
      "10\n",
      "15\n",
      "s ниразу не был равен 4\n"
     ]
    }
   ],
   "source": [
    "# если нет ошибк в цикле то работеат else\n",
    "S = 0\n",
    "i = 0 \n",
    "while i < 5:\n",
    "    if S == 5:\n",
    "        break\n",
    "    i += 1\n",
    "    S += i\n",
    "    print(S)\n",
    "else: \n",
    "    print('s ниразу не был равен 4')"
   ]
  },
  {
   "cell_type": "markdown",
   "id": "341ec317-6bf1-4840-9109-a2fe616d0641",
   "metadata": {},
   "source": [
    "<h2> 23. Функция enumerate() / Enumerate() function "
   ]
  },
  {
   "cell_type": "code",
   "execution_count": 3,
   "id": "aca5e750-1405-4669-9568-699ec7765fd4",
   "metadata": {},
   "outputs": [
    {
     "name": "stdout",
     "output_type": "stream",
     "text": [
      "[4, 3, 100, 0, 0, 1]\n"
     ]
    }
   ],
   "source": [
    "#ищем двузначные числа и заменяем их на 0\n",
    "digs = [4, 3, 100, -53, -30, 1]\n",
    "for i, d in enumerate(digs):\n",
    "    if 10 <= abs(d) <= 99:\n",
    "        digs[i] = 0\n",
    "print(digs)"
   ]
  },
  {
   "cell_type": "markdown",
   "id": "75d73e6d-9a73-492e-b49e-6044fe99be1a",
   "metadata": {
    "tags": []
   },
   "source": [
    "<h2> 24. Итераторы iter() и next() / iter() and next() iterators</h2>"
   ]
  },
  {
   "cell_type": "code",
   "execution_count": 11,
   "id": "66a5a6b2-2aaa-4114-85bb-a3a5c96c7c37",
   "metadata": {},
   "outputs": [
    {
     "data": {
      "text/plain": [
       "3"
      ]
     },
     "execution_count": 11,
     "metadata": {},
     "output_type": "execute_result"
    }
   ],
   "source": [
    "d = [5, 3, 7, 10, 32]\n",
    "iter(d)\n",
    "it = iter(d)\n",
    "next(it)\n",
    "next(it)"
   ]
  },
  {
   "cell_type": "markdown",
   "id": "a4fd5833-957b-4156-b8cc-faa3d9400427",
   "metadata": {
    "jp-MarkdownHeadingCollapsed": true,
    "tags": []
   },
   "source": [
    "<h2>25. Вложенные циклы / Nested cycles</h2>"
   ]
  },
  {
   "cell_type": "code",
   "execution_count": 15,
   "id": "ee93962d-e3ce-434f-b7f9-ecacdf02aab6",
   "metadata": {},
   "outputs": [
    {
     "name": "stdout",
     "output_type": "stream",
     "text": [
      "\n",
      "\n",
      "\n",
      "[[2, 3, 4, 5], [4, 5, 6, 7], [6, 7, 8, 9]]\n"
     ]
    }
   ],
   "source": [
    "# сложение двух массивов\n",
    "a = [[1, 2, 3, 4], [2, 3, 4, 5], [3, 4, 5, 6]]\n",
    "b = [[1, 1, 1, 1], [2, 2, 2, 2], [3, 3, 3, 3]]\n",
    "c = []\n",
    "\n",
    "for i, row in enumerate(a):\n",
    "    r = []\n",
    "    for j, x in enumerate(row):\n",
    "        r.append(x + b[i][j])\n",
    "    print()\n",
    "    c.append(r)\n",
    "print(c)\n"
   ]
  },
  {
   "cell_type": "code",
   "execution_count": 16,
   "id": "5799dd58-a7be-4b9d-9d1d-769ebb166408",
   "metadata": {},
   "outputs": [
    {
     "name": "stdin",
     "output_type": "stream",
     "text": [
      " 3 4\n"
     ]
    },
    {
     "name": "stdout",
     "output_type": "stream",
     "text": [
      "[[0, 0, 0, 0], [0, 0, 0, 0], [0, 0, 0, 0]]\n"
     ]
    }
   ],
   "source": [
    "# создание массива заданного размера\n",
    "h, w = list(map(int, input().split()))\n",
    "z = []\n",
    "for i in range(h):\n",
    "    z.append([0]*w)\n",
    "print(z)"
   ]
  },
  {
   "cell_type": "code",
   "execution_count": 17,
   "id": "e7cca287-01e3-4c3d-9426-e135b7fc7fb6",
   "metadata": {},
   "outputs": [
    {
     "name": "stdout",
     "output_type": "stream",
     "text": [
      "[[1, 1, 1, 1], [1, 1, 1, 1], [1, 1, 1, 1]]\n"
     ]
    }
   ],
   "source": [
    "# присвоение новых значений для двумерных массивов\n",
    "for i in range(h):\n",
    "    for j in range(w):\n",
    "        z[i][j] = 1\n",
    "print(z)"
   ]
  },
  {
   "cell_type": "code",
   "execution_count": 18,
   "id": "fc72cc57-f1c3-4ecd-88dc-f801efe3720c",
   "metadata": {},
   "outputs": [
    {
     "name": "stdout",
     "output_type": "stream",
     "text": [
      "1\t5\t9\t13\t\n",
      "2\t6\t10\t14\t\n",
      "3\t7\t11\t15\t\n",
      "4\t8\t12\t16\t\n"
     ]
    }
   ],
   "source": [
    "#поворот массива \n",
    "A = [[1, 2, 3, 4], [5, 6, 7, 8], [9, 10, 11, 12], [13, 14, 15, 16]]\n",
    "\n",
    "for i in range(len(A)):\n",
    "    for j in range(i+1, len(A)):\n",
    "        A[i][j], A[j][i] = A[j][i], A[i][j]\n",
    "\n",
    "for r in A:\n",
    "    for x in r:\n",
    "        print(x, end='\\t')\n",
    "    print()\n"
   ]
  },
  {
   "cell_type": "code",
   "execution_count": null,
   "id": "2c6008bb-1d7d-4e9b-a39c-7f5a15459ae3",
   "metadata": {},
   "outputs": [],
   "source": []
  },
  {
   "cell_type": "markdown",
   "id": "f308ffd7-972c-4ae4-9b86-545e8188caf4",
   "metadata": {
    "jp-MarkdownHeadingCollapsed": true,
    "tags": []
   },
   "source": [
    "<h2> 26. Треугольник Паскаля / Triangle of Pascal </h2>"
   ]
  },
  {
   "cell_type": "code",
   "execution_count": 1,
   "id": "2245b9cc-6652-469f-84fb-4aac48aabfc3",
   "metadata": {},
   "outputs": [
    {
     "name": "stdin",
     "output_type": "stream",
     "text": [
      " 7\n"
     ]
    },
    {
     "name": "stdout",
     "output_type": "stream",
     "text": [
      "[1]\n",
      "[1, 1]\n",
      "[1, 2, 1]\n",
      "[1, 3, 3, 1]\n",
      "[1, 4, 6, 4, 1]\n",
      "[1, 5, 10, 10, 5, 1]\n",
      "[1, 6, 15, 20, 15, 6, 1]\n"
     ]
    }
   ],
   "source": [
    "N = int(input())\n",
    "lst = []\n",
    "for i in range(N):\n",
    "    row = [1]*(i+1)\n",
    "    for j in range(i+1):\n",
    "        if j != 0 and j != i: \n",
    "            row[j] = lst[i-1][j] + lst[i-1][j-1]\n",
    "    lst.append(row)\n",
    "\n",
    "for i in lst:\n",
    "    print(i)"
   ]
  },
  {
   "cell_type": "markdown",
   "id": "a5c98311-ffe9-46fd-93ce-744c486a4a73",
   "metadata": {
    "jp-MarkdownHeadingCollapsed": true,
    "tags": []
   },
   "source": [
    "<h2> 27. Генераторы списков / List comprehension</h2> "
   ]
  },
  {
   "cell_type": "code",
   "execution_count": 2,
   "id": "f6700da7-a898-4654-a8bc-cc61cbb17505",
   "metadata": {},
   "outputs": [
    {
     "name": "stdin",
     "output_type": "stream",
     "text": [
      "Целые числа через пробел 1 2 4\n"
     ]
    },
    {
     "name": "stdout",
     "output_type": "stream",
     "text": [
      "[1, 2, 4]\n"
     ]
    }
   ],
   "source": [
    "# генератор списка целых чисел\n",
    "stg = input(\"Целые числа через пробел\")\n",
    "lst = [int(d) for d in stg.split()]\n",
    "print(lst)"
   ]
  },
  {
   "cell_type": "code",
   "execution_count": 3,
   "id": "6a5f1add-c9ba-48f4-9586-d6668db0cade",
   "metadata": {},
   "outputs": [
    {
     "name": "stdout",
     "output_type": "stream",
     "text": [
      "[2, 4]\n"
     ]
    }
   ],
   "source": [
    "# вывод только четных занчений при помощи if \n",
    "lst_d = [1 , 5, 3, 2, 5, 4]\n",
    "e_d = [ d for d in lst_d if d % 2 == 0]\n",
    "print(e_d)\n"
   ]
  },
  {
   "cell_type": "code",
   "execution_count": 4,
   "id": "fa4efed7-1f1e-4a88-9726-513fa966c695",
   "metadata": {},
   "outputs": [
    {
     "name": "stdout",
     "output_type": "stream",
     "text": [
      "['нечетное', 'нечетное', 'нечетное', 'нечетное', 'четное', 'четное', 'четное', 'четное']\n"
     ]
    }
   ],
   "source": [
    "# вывод указателя четных значений положиетльных чисел\n",
    "lst_d = [1 , 5, 3, -2, 5, 4, -241, 4234, 32, - 33, 20, -20]\n",
    "s_p_d = ['четное' if d % 2 == 0 else 'нечетное' for d in lst_d if d > 0]\n",
    "print(s_p_d)"
   ]
  },
  {
   "cell_type": "code",
   "execution_count": 41,
   "id": "5e3e2df1-ace2-4325-831d-25451a5df523",
   "metadata": {},
   "outputs": [
    {
     "name": "stdout",
     "output_type": "stream",
     "text": [
      "[5, 6, 7, 6, 7, 8, 7, 8, 9]\n",
      "[[5, 6, 7], [6, 7, 8], [7, 8, 9]]\n"
     ]
    }
   ],
   "source": [
    "# генератор с двойными циклами\n",
    "lst = [ x + y for x in [1, 2, 3] for y in [4, 5, 6]]\n",
    "# сравнение со вложенным генератором\n",
    "lst2 = [[ x + y for x in [1, 2, 3]] for y in [4, 5, 6]]\n",
    "print(lst, lst2, sep='\\n')"
   ]
  },
  {
   "cell_type": "markdown",
   "id": "6e9b0fcb-fd02-4dcf-9483-564cdbeef10a",
   "metadata": {
    "tags": []
   },
   "source": [
    "<h2> 28. Вложенные генераторы списков / Nested list comprehensions </h2>"
   ]
  },
  {
   "cell_type": "code",
   "execution_count": 1,
   "id": "fb536023-5d63-41ab-825a-b3deafee03e5",
   "metadata": {},
   "outputs": [
    {
     "name": "stdout",
     "output_type": "stream",
     "text": [
      "[[1, 4, 9], [16, 25, 36], [49, 64, 81]]\n",
      "[1, 4, 9, 16, 25, 36, 49, 64, 81]\n"
     ]
    }
   ],
   "source": [
    "# сравнение конструкции с вложенным генератором и последовательным циклом\n",
    "a = [[1 , 2, 3], [4 ,5, 6], [7, 8, 9]]\n",
    "a1 = [[x**2 for x in row] for row in a]\n",
    "a2 = [x**2 for row in a for x in row]\n",
    "print(a1, a2, sep='\\n')"
   ]
  },
  {
   "cell_type": "code",
   "execution_count": 9,
   "id": "b2f1692b-04ae-4ed0-8a07-763c7f8fa7f7",
   "metadata": {},
   "outputs": [
    {
     "name": "stdout",
     "output_type": "stream",
     "text": [
      "[1, 5, 9]\n",
      "[2, 6, 10]\n",
      "[3, 7, 11]\n",
      "[4, 8, 12]\n"
     ]
    }
   ],
   "source": [
    "# транспонирование матрицы\n",
    "matrix = [[1, 2, 3, 4], [5, 6, 7 ,8], [9, 10, 11, 12]]\n",
    "t_matrix = [[row[a] for row in matrix] for a in range(len(matrix[0]))]\n",
    "for i in t_matrix:\n",
    "    print(i)"
   ]
  },
  {
   "cell_type": "code",
   "execution_count": 12,
   "id": "2deb3ae1-c99a-4e91-b9ec-f25d98d4cbd4",
   "metadata": {},
   "outputs": [
    {
     "name": "stdout",
     "output_type": "stream",
     "text": [
      "[1, 4, 9, 16, 25]\n"
     ]
    }
   ],
   "source": [
    "# создаем список для итерации, и затем возводим в квадрат его значения \n",
    "g = [u**2 for u in [x+1 for x in range(5)]]\n",
    "print(g)"
   ]
  },
  {
   "cell_type": "markdown",
   "id": "ed69c356-c764-41a7-81bb-1a2058b097e1",
   "metadata": {
    "jp-MarkdownHeadingCollapsed": true,
    "tags": []
   },
   "source": [
    "<h2>30. Методы словарей / Dictionary methods</h2>\n"
   ]
  },
  {
   "cell_type": "code",
   "execution_count": 1,
   "id": "2e71d8cc-f736-4bee-88ab-126f5ac1e2cc",
   "metadata": {},
   "outputs": [
    {
     "data": {
      "text/plain": [
       "{'+7': None, '+6': None, '+5': None}"
      ]
     },
     "execution_count": 1,
     "metadata": {},
     "output_type": "execute_result"
    }
   ],
   "source": [
    "#создаем ключи словаря\n",
    "lst=['+7', '+6', '+5']\n",
    "a = dict.fromkeys(lst)\n",
    "a"
   ]
  },
  {
   "cell_type": "code",
   "execution_count": 3,
   "id": "a6886125-0047-4c93-85ea-b9dc9b61180f",
   "metadata": {},
   "outputs": [
    {
     "data": {
      "text/plain": [
       "{}"
      ]
     },
     "execution_count": 3,
     "metadata": {},
     "output_type": "execute_result"
    }
   ],
   "source": [
    "# полная очистка словаря\n",
    "a.clear()\n",
    "a"
   ]
  },
  {
   "cell_type": "code",
   "execution_count": 5,
   "id": "f4d3b61e-53c2-42c9-b17f-bae0d51770dc",
   "metadata": {},
   "outputs": [],
   "source": [
    "# создаем копию словаря\n",
    "d = {True: 1, False: 'Ложь', 'List': [1,2,3], 5:5}\n",
    "d2 = d.copy()"
   ]
  },
  {
   "cell_type": "code",
   "execution_count": 10,
   "id": "64447057-2594-45ef-a804-0a15332e857c",
   "metadata": {},
   "outputs": [
    {
     "data": {
      "text/plain": [
       "'нет такого'"
      ]
     },
     "execution_count": 10,
     "metadata": {},
     "output_type": "execute_result"
    }
   ],
   "source": [
    "# полчить значение по ключу (без ошибок)\n",
    "d.get(5)\n",
    "d.get(3, 'нет такого')"
   ]
  },
  {
   "cell_type": "code",
   "execution_count": 17,
   "id": "371df2c7-05c1-46b1-bc5e-1d2928696ba9",
   "metadata": {},
   "outputs": [
    {
     "data": {
      "text/plain": [
       "{True: 1, False: 'Ложь', 'List': [1, 2, 3], 5: 5, 3: 'three'}"
      ]
     },
     "execution_count": 17,
     "metadata": {},
     "output_type": "execute_result"
    }
   ],
   "source": [
    "#выводим значение по ключу, если ключа нет то, задаем пару ключ значение\n",
    "d.setdefault(5)\n",
    "d.setdefault(3, 'three')\n",
    "d"
   ]
  },
  {
   "cell_type": "code",
   "execution_count": 18,
   "id": "c7c64dc9-22bd-4bad-bce5-c843db2f3241",
   "metadata": {},
   "outputs": [
    {
     "data": {
      "text/plain": [
       "{True: 1, False: 'Ложь', 'List': [1, 2, 3], 5: 5}"
      ]
     },
     "execution_count": 18,
     "metadata": {},
     "output_type": "execute_result"
    }
   ],
   "source": [
    "#вытаскиваем значение по ключу из словаря\n",
    "d.pop(3)\n",
    "d"
   ]
  },
  {
   "cell_type": "code",
   "execution_count": 21,
   "id": "892bd0ec-17ee-4ad1-aadf-60e3e6e89746",
   "metadata": {},
   "outputs": [
    {
     "data": {
      "text/plain": [
       "('List', [1, 2, 3])"
      ]
     },
     "execution_count": 21,
     "metadata": {},
     "output_type": "execute_result"
    }
   ],
   "source": [
    "#вытаскиваем последние и ключ и значение из словаря\n",
    "d.popitem()"
   ]
  },
  {
   "cell_type": "code",
   "execution_count": 29,
   "id": "4ca52dff-ef3a-424c-ad77-883da4081f88",
   "metadata": {},
   "outputs": [
    {
     "data": {
      "text/plain": [
       "{'one': 'оч плохо', 'two': 2, 'three': 3, 2: 'неуд', 3: 'уд'}"
      ]
     },
     "execution_count": 29,
     "metadata": {},
     "output_type": "execute_result"
    }
   ],
   "source": [
    "# соединение/ обновление словарей\n",
    "# вариант 1\n",
    "d = {'one': 1, 'two': 2, 'three': 3}\n",
    "d2 = {2: 'неуд', 3:'уд', 'one':'оч плохо'} # обновится только 'one', остальные добавятся\n",
    "d.update(d2)\n",
    "# вариант 2\n",
    "d3 = {**d, **d2}\n",
    "# вариант 3\n",
    "d | d2 "
   ]
  },
  {
   "cell_type": "markdown",
   "id": "32325ec2-6c55-415b-916c-8ea56cbedf1f",
   "metadata": {
    "jp-MarkdownHeadingCollapsed": true,
    "tags": []
   },
   "source": [
    "<h2> 31. Кортеджи / Tuple </h2>"
   ]
  },
  {
   "cell_type": "code",
   "execution_count": 14,
   "id": "32d68a5a-692f-40d9-ab93-d79b9b6916b3",
   "metadata": {},
   "outputs": [
    {
     "ename": "ValueError",
     "evalue": "tuple.index(x): x not in tuple",
     "output_type": "error",
     "traceback": [
      "\u001b[1;31m---------------------------------------------------------------------------\u001b[0m",
      "\u001b[1;31mValueError\u001b[0m                                Traceback (most recent call last)",
      "Input \u001b[1;32mIn [14]\u001b[0m, in \u001b[0;36m<cell line: 6>\u001b[1;34m()\u001b[0m\n\u001b[0;32m      4\u001b[0m c \u001b[38;5;241m=\u001b[39m (\u001b[38;5;241m1\u001b[39m,)\n\u001b[0;32m      5\u001b[0m b1 \u001b[38;5;241m=\u001b[39m b\u001b[38;5;241m.\u001b[39mcount(\u001b[38;5;241m2\u001b[39m)\n\u001b[1;32m----> 6\u001b[0m b2 \u001b[38;5;241m=\u001b[39m \u001b[43mb\u001b[49m\u001b[38;5;241;43m.\u001b[39;49m\u001b[43mindex\u001b[49m\u001b[43m(\u001b[49m\u001b[38;5;124;43m'\u001b[39;49m\u001b[38;5;124;43mdd\u001b[39;49m\u001b[38;5;124;43m'\u001b[39;49m\u001b[43m)\u001b[49m\n\u001b[0;32m      7\u001b[0m \u001b[38;5;28mprint\u001b[39m(a, b, c, b1, b2)\n",
      "\u001b[1;31mValueError\u001b[0m: tuple.index(x): x not in tuple"
     ]
    }
   ],
   "source": [
    "#создание кортеджа\n",
    "a = 1, 2\n",
    "b = (1, 2, 'jdd')\n",
    "c = (1,)\n",
    "b1 = b.count(2)\n",
    "b2 = b.index('dd')\n",
    "print(a, b, c, b1, b2)"
   ]
  },
  {
   "cell_type": "markdown",
   "id": "f1bd458b-082c-4a76-a001-2464ad39a4f9",
   "metadata": {
    "jp-MarkdownHeadingCollapsed": true,
    "tags": []
   },
   "source": [
    "<h2> 32. Множества / Set </h2>"
   ]
  },
  {
   "cell_type": "code",
   "execution_count": 2,
   "id": "27cadaa2-aca1-425c-9120-c502b1c3588c",
   "metadata": {},
   "outputs": [],
   "source": [
    "#добавление аргумента множества\n",
    "a = set()\n",
    "a.add(7)\n"
   ]
  },
  {
   "cell_type": "code",
   "execution_count": 3,
   "id": "4cc152a4-35f7-452b-b69f-e7654dad8d78",
   "metadata": {},
   "outputs": [
    {
     "name": "stdout",
     "output_type": "stream",
     "text": [
      "{'a', 'b', 7}\n"
     ]
    }
   ],
   "source": [
    "# добавление нескольких аргументов во множество\n",
    "a.update(['a', 'b', (1, 2)])\n"
   ]
  },
  {
   "cell_type": "code",
   "execution_count": 35,
   "id": "c5c15191-e5d6-4bda-800a-883ee5aa457d",
   "metadata": {},
   "outputs": [],
   "source": [
    "# удаление не вызывающее ошибку\n",
    "a.discard(7)"
   ]
  },
  {
   "cell_type": "code",
   "execution_count": 36,
   "id": "33d674c2-6167-4b2f-8c0d-9b9ea46e308f",
   "metadata": {},
   "outputs": [],
   "source": [
    "# удаление вызывающее ошибку\n",
    "a.remove('a')\n"
   ]
  },
  {
   "cell_type": "code",
   "execution_count": 37,
   "id": "316383e4-6cc8-4257-b4f9-99ef1bd67bea",
   "metadata": {},
   "outputs": [
    {
     "data": {
      "text/plain": [
       "(1, 2)"
      ]
     },
     "execution_count": 37,
     "metadata": {},
     "output_type": "execute_result"
    }
   ],
   "source": [
    "# отрыв элемента из списка по индексу\n",
    "a.pop()"
   ]
  },
  {
   "cell_type": "code",
   "execution_count": 38,
   "id": "6ec7f591-7612-41ae-9edc-9bf71aac608c",
   "metadata": {},
   "outputs": [],
   "source": [
    "# полная очистка множества\n",
    "a.clear()"
   ]
  },
  {
   "cell_type": "markdown",
   "id": "961e8f6a-af1c-453d-9ca9-f3591918888e",
   "metadata": {
    "jp-MarkdownHeadingCollapsed": true,
    "tags": []
   },
   "source": [
    "<h2> 33. Операции над множествами / Operation on sets </h2>"
   ]
  },
  {
   "cell_type": "code",
   "execution_count": 25,
   "id": "e0d29c1d-1088-4136-a2ee-aeff9303695a",
   "metadata": {},
   "outputs": [],
   "source": [
    "setA = {1, 2 ,3, 4}\n",
    "setB = set([3, 7, 4, 9])"
   ]
  },
  {
   "cell_type": "code",
   "execution_count": 16,
   "id": "b2668890-d1ce-4066-93a1-d20e06183aeb",
   "metadata": {},
   "outputs": [
    {
     "name": "stdout",
     "output_type": "stream",
     "text": [
      "{3, 4} {3, 4} {3, 4} {3, 4}\n"
     ]
    }
   ],
   "source": [
    "# обединение множеств по совпадающим элементам (intersection)\n",
    "\n",
    "res = setA & setB # создание множества\n",
    "setA &= setB # обновление множества\n",
    "res2 = setA.intersection(setB) # создание множества\n",
    "setA.intersection_update(setB) # обновление множества\n",
    "\n",
    "print(res, setA, res2, setA)"
   ]
  },
  {
   "cell_type": "code",
   "execution_count": 26,
   "id": "05ca903e-423b-4fe5-99a7-a06049695ed9",
   "metadata": {},
   "outputs": [
    {
     "name": "stdout",
     "output_type": "stream",
     "text": [
      "{1, 2, 7, 9} {1, 2, 7, 9}\n"
     ]
    }
   ],
   "source": [
    "# обединение множеств по несовпадающим элементам\n",
    "\n",
    "res = setA ^ setB # создание множества\n",
    "setA ^= setB # обновление множества\n",
    "\n",
    "print(res, setA)"
   ]
  },
  {
   "cell_type": "code",
   "execution_count": 20,
   "id": "150c5125-ec4a-4ba4-8bd9-972398a8a817",
   "metadata": {},
   "outputs": [
    {
     "name": "stdout",
     "output_type": "stream",
     "text": [
      "{1, 2, 3, 4, 7, 9}\n",
      "{1, 2, 3, 4, 7, 9}\n",
      "{1, 2, 3, 4, 7, 9}\n"
     ]
    }
   ],
   "source": [
    "# обединение множеств по всем элементам (union)\n",
    "\n",
    "res = setA | setB # создание множества\n",
    "setA |= setB # обновление множества\n",
    "res2 = setA.union(setB) # создание множества\n",
    "\n",
    "print(res, setA, res2, sep='\\n')"
   ]
  },
  {
   "cell_type": "code",
   "execution_count": 23,
   "id": "24ee087e-f43e-4899-803d-e9e532873a91",
   "metadata": {},
   "outputs": [
    {
     "name": "stdout",
     "output_type": "stream",
     "text": [
      "{1, 2}\n",
      "{9, 7}\n",
      "{1, 2}\n",
      "{9, 3, 4, 7}\n"
     ]
    }
   ],
   "source": [
    "# вычитание множеств\n",
    "res = setA - setB # создание множества\n",
    "res2 = setB - setA # создание множества\n",
    "setA -= setB # обновление множества\n",
    "setB -= setA # обновление множества\n",
    "print(res, res2, setA, setB,  sep='\\n')"
   ]
  },
  {
   "cell_type": "code",
   "execution_count": 35,
   "id": "1ec72c67-5552-4f02-99ab-ee5dacead1d6",
   "metadata": {},
   "outputs": [],
   "source": [
    "# операции сравнения\n",
    "setC = {1, 2, 3, 4}\n",
    "setD = {1, 2}\n",
    "setE = {2, 3, 1, 4}\n",
    "setF = {1, 2, 5}\n",
    "setJ = {1, 2, 5, 7}"
   ]
  },
  {
   "cell_type": "code",
   "execution_count": 30,
   "id": "a8f39441-9cd4-4d9c-88b6-7a898d3c701a",
   "metadata": {},
   "outputs": [
    {
     "data": {
      "text/plain": [
       "True"
      ]
     },
     "execution_count": 30,
     "metadata": {},
     "output_type": "execute_result"
    }
   ],
   "source": [
    "setC == setE"
   ]
  },
  {
   "cell_type": "code",
   "execution_count": 31,
   "id": "6d44613f-f76f-45f2-81e5-20a40dd4a238",
   "metadata": {},
   "outputs": [
    {
     "data": {
      "text/plain": [
       "True"
      ]
     },
     "execution_count": 31,
     "metadata": {},
     "output_type": "execute_result"
    }
   ],
   "source": [
    "setC > setD"
   ]
  },
  {
   "cell_type": "code",
   "execution_count": 33,
   "id": "ecf13105-583e-418e-a268-15629b65efd7",
   "metadata": {},
   "outputs": [
    {
     "data": {
      "text/plain": [
       "False"
      ]
     },
     "execution_count": 33,
     "metadata": {},
     "output_type": "execute_result"
    }
   ],
   "source": [
    "setC > setF"
   ]
  },
  {
   "cell_type": "code",
   "execution_count": 36,
   "id": "74ba1096-7fb4-43b4-9e72-4d191bb80276",
   "metadata": {},
   "outputs": [
    {
     "data": {
      "text/plain": [
       "False"
      ]
     },
     "execution_count": 36,
     "metadata": {},
     "output_type": "execute_result"
    }
   ],
   "source": [
    "setC == setJ"
   ]
  },
  {
   "cell_type": "code",
   "execution_count": 37,
   "id": "1fd0a4de-ee8f-43bd-b8a8-7e63560edbd2",
   "metadata": {},
   "outputs": [
    {
     "data": {
      "text/plain": [
       "True"
      ]
     },
     "execution_count": 37,
     "metadata": {},
     "output_type": "execute_result"
    }
   ],
   "source": [
    "setJ >= setF"
   ]
  },
  {
   "cell_type": "markdown",
   "id": "cd54e61d-5d38-4660-9178-5150c782ad08",
   "metadata": {
    "tags": []
   },
   "source": [
    "<h2> 34. Генераторы множеств и словарей / set and dick comprehansion </h2>"
   ]
  },
  {
   "cell_type": "code",
   "execution_count": 40,
   "id": "1276734a-f838-44f8-8cac-0e7ec6256f3e",
   "metadata": {},
   "outputs": [
    {
     "name": "stdout",
     "output_type": "stream",
     "text": [
      "{1: 'один', 2: 'два'}\n",
      "{1, 2}\n"
     ]
    }
   ],
   "source": [
    "m = {'ноль': 0, \"один\": 1, \"два\": 2, \"три\": 3}\n",
    "c_dick = {int(value): key for key, value in m.items() if 0 < value < 3}\n",
    "c_set = {int(value) for value in m.values() if 0 < value < 3}\n",
    "print(c_dick, c_set, sep=\"\\n\")"
   ]
  },
  {
   "cell_type": "markdown",
   "id": "6d071101-9dce-4053-ae44-ab05a5d8e612",
   "metadata": {
    "jp-MarkdownHeadingCollapsed": true,
    "tags": []
   },
   "source": [
    "<h2>37. Алгоритм Евклида / Euclid's algorithm</h2>"
   ]
  },
  {
   "cell_type": "code",
   "execution_count": null,
   "id": "636482a3-123e-49e2-9b85-7a54fd3b1f96",
   "metadata": {},
   "outputs": [],
   "source": []
  },
  {
   "cell_type": "code",
   "execution_count": null,
   "id": "c97a7716-b8de-469e-9d82-c875b2584fa1",
   "metadata": {},
   "outputs": [],
   "source": []
  },
  {
   "cell_type": "code",
   "execution_count": null,
   "id": "ed98272d-1b6e-4068-9a22-2cbd6455b2b3",
   "metadata": {},
   "outputs": [],
   "source": []
  },
  {
   "cell_type": "code",
   "execution_count": 4,
   "id": "12f83821-791d-4e84-ba27-45ca3826bed6",
   "metadata": {},
   "outputs": [
    {
     "name": "stdout",
     "output_type": "stream",
     "text": [
      "6\n",
      "Help on function get_NOD in module __main__:\n",
      "\n",
      "get_NOD(a, b)\n",
      "    медленный алгоритм\n",
      "\n"
     ]
    }
   ],
   "source": [
    "\n",
    "def get_NOD(a, b):\n",
    "    \"\"\"медленный алгоритм\"\"\"\n",
    "    while a != b:\n",
    "        if a > b:\n",
    "            a -= b\n",
    "        else:\n",
    "            b -= a\n",
    "    return a\n",
    "print(get_NOD(24, 18))\n",
    "help(get_NOD)"
   ]
  },
  {
   "cell_type": "code",
   "execution_count": 6,
   "id": "bb45c8ce-051b-4bc5-9d28-2211edeed089",
   "metadata": {},
   "outputs": [
    {
     "name": "stdout",
     "output_type": "stream",
     "text": [
      "6\n"
     ]
    }
   ],
   "source": [
    "def get_NOD (a, b):\n",
    "    \"\"\"быстрый алгоритм\"\"\"\n",
    "    if a < b:\n",
    "        a, b = b, a\n",
    "    while b != 0:\n",
    "        a, b = b, a % b \n",
    "    return a\n",
    "print(get_NOD(24, 18))"
   ]
  },
  {
   "cell_type": "markdown",
   "id": "cdc5668c-7681-4d7e-8d99-e0024d5dc6ea",
   "metadata": {
    "jp-MarkdownHeadingCollapsed": true,
    "tags": []
   },
   "source": [
    "<h2>43. Области видимости переменных. global и nonlocal / Areas of variables</h2>"
   ]
  },
  {
   "cell_type": "code",
   "execution_count": 10,
   "id": "b38d4b7c-8cb1-4107-99c7-55aaee52c850",
   "metadata": {},
   "outputs": [
    {
     "name": "stdout",
     "output_type": "stream",
     "text": [
      "inner:  2\n",
      "outer:  2\n",
      "None\n",
      "global:  0\n"
     ]
    }
   ],
   "source": [
    "x = 0\n",
    "def outer():\n",
    "    #global x\n",
    "    x = 1 \n",
    "    def inner():\n",
    "        nonlocal x \n",
    "        x = 2\n",
    "        print (\"inner: \", x)\n",
    "    inner()\n",
    "    print(\"outer: \", x)\n",
    "print(outer())\n",
    "print(\"global: \", x)"
   ]
  },
  {
   "cell_type": "markdown",
   "id": "6b3fa841-baa3-4af3-a217-f677a65c3c0d",
   "metadata": {
    "jp-MarkdownHeadingCollapsed": true,
    "tags": []
   },
   "source": [
    "<h2>44. Замыкания / Closers</h2>"
   ]
  },
  {
   "cell_type": "code",
   "execution_count": 11,
   "id": "21ad9c18-0b78-4ae1-9471-7d2f1cf5973f",
   "metadata": {},
   "outputs": [
    {
     "name": "stdout",
     "output_type": "stream",
     "text": [
      "2 3 4\n"
     ]
    }
   ],
   "source": [
    "#определим функцию счетчик\n",
    "def counter(start=0):\n",
    "    def step():\n",
    "        nonlocal start\n",
    "        start += 1\n",
    "        return start\n",
    "    return step\n",
    "C = counter(1)\n",
    "print(C(), C(), C())"
   ]
  },
  {
   "cell_type": "code",
   "execution_count": 13,
   "id": "c58f5b35-1957-412e-a48c-7236c1a42205",
   "metadata": {},
   "outputs": [
    {
     "name": "stdout",
     "output_type": "stream",
     "text": [
      "Hello! Hello\n"
     ]
    }
   ],
   "source": [
    "#удаление символов в начале и конце строки\n",
    "def strip_string(strip_chars=\" \"):\n",
    "    def do_strip(string):\n",
    "        return string.strip(strip_chars)\n",
    "    return do_strip\n",
    "SS = strip_string()\n",
    "SS2 = strip_string(\" !\")\n",
    "print(SS(\"Hello! \"), SS2(\"Hello! \"))\n",
    "    "
   ]
  },
  {
   "cell_type": "markdown",
   "id": "11b7a2b2-b1b9-496d-a7cc-433e648e50fe",
   "metadata": {
    "jp-MarkdownHeadingCollapsed": true,
    "tags": []
   },
   "source": [
    "<h2>45. Декораторы / Decorators</h2> "
   ]
  },
  {
   "cell_type": "code",
   "execution_count": 14,
   "id": "2bd03ea8-dd5d-4d55-bb78-ee0bf71fa89e",
   "metadata": {},
   "outputs": [
    {
     "name": "stdout",
     "output_type": "stream",
     "text": [
      "--что-то делаем перед вызова--\n",
      "title=Титул, tag=Тэг\n",
      "--что-то делаем после вызова функции--\n"
     ]
    }
   ],
   "source": [
    "def func_decorator(func):\n",
    "        def wrapper(*args, **kwargs):\n",
    "            print(\"--что-то делаем перед вызова--\")\n",
    "            func(*args, **kwargs)\n",
    "            print(\"--что-то делаем после вызова функции--\")\n",
    "        return wrapper\n",
    "\n",
    "def some_func(title, tag):\n",
    "    print(f'title={title}, tag={tag}')\n",
    "\n",
    "some_func = func_decorator(some_func)\n",
    "some_func('Титул', 'Тэг')\n",
    "\n",
    "            "
   ]
  },
  {
   "cell_type": "code",
   "execution_count": 21,
   "id": "05593a25-9748-4f10-b872-f7e3af3e87aa",
   "metadata": {},
   "outputs": [
    {
     "name": "stdout",
     "output_type": "stream",
     "text": [
      "Время работы функции : 1.7454612255096436\n"
     ]
    },
    {
     "data": {
      "text/plain": [
       "2"
      ]
     },
     "execution_count": 21,
     "metadata": {},
     "output_type": "execute_result"
    }
   ],
   "source": [
    "# проверяем скорост ьработы функции\n",
    "import time \n",
    "def test_time(func):\n",
    "    def wrapper(*args, **kwargs):\n",
    "        tb = time.time()\n",
    "        result = func(*args, **kwargs)\n",
    "        ta = time.time()\n",
    "        dt = ta - tb\n",
    "        print (f'Время работы функции : {dt}')\n",
    "        return result \n",
    "    return wrapper\n",
    "\n",
    "@test_time\n",
    "def get_NOD(a, b):\n",
    "    while a != b:\n",
    "        if a > b:\n",
    "            a -= b\n",
    "        else:\n",
    "            b -= a\n",
    "    return a\n",
    "get_NOD(100000000, 2)\n",
    "        "
   ]
  },
  {
   "cell_type": "markdown",
   "id": "e071b7d1-1ebc-404b-94a7-c983cca000dd",
   "metadata": {
    "jp-MarkdownHeadingCollapsed": true,
    "tags": []
   },
   "source": [
    "<h2>46. Декораторы с параметрами / Decorators with parameters</h2>"
   ]
  },
  {
   "cell_type": "code",
   "execution_count": null,
   "id": "ca772ab1-a87f-42fc-b03f-0ef976fd0ce6",
   "metadata": {},
   "outputs": [],
   "source": []
  },
  {
   "cell_type": "code",
   "execution_count": 26,
   "id": "aba8d695-28c2-4f63-866d-a1d2740cd4d3",
   "metadata": {},
   "outputs": [
    {
     "name": "stdout",
     "output_type": "stream",
     "text": [
      "sin_df\n",
      "функция вычисления производной\n",
      "Вычеслим производную\n",
      "Производная вычислина\n"
     ]
    },
    {
     "data": {
      "text/plain": [
       "-0.4481183152305057"
      ]
     },
     "execution_count": 26,
     "metadata": {},
     "output_type": "execute_result"
    }
   ],
   "source": [
    "from functools import wraps\n",
    "import math\n",
    "\n",
    "def par_decorator(dx=0.01):\n",
    "    def func_decorator(func):\n",
    "        @wraps(func) # встроенная функция присвоения магических методов wrapper к func \n",
    "        def wrapper(x, *args, **kwargs):\n",
    "            print ('Вычеслим производную')\n",
    "            result = (func(x + dx, *args, **kwargs) - func(x, *args, **kwargs)) / dx \n",
    "            print ('Производная вычислина')\n",
    "            return result\n",
    "        # wrapper.__name__ = func.__name__ - задаем возможность вызовы имени для декарируемой функции\n",
    "        # wrapper.__doc__ = func.__doc__ - задаем возможность вызова \n",
    "        return wrapper\n",
    "    return func_decorator\n",
    "\n",
    "\n",
    "\"\"\"sin_df = per_decorator(dx=0.01)(sin_df) последовательный вызов\"\"\"\n",
    "@par_decorator(dx=0.0001)\n",
    "def sin_df(x):\n",
    "    \"\"\"функция вычисления производной\"\"\"\n",
    "    return math.sin(x)\n",
    "print(sin_df.__name__)\n",
    "print(sin_df.__doc__)\n",
    "sin_df(90)\n",
    "    "
   ]
  },
  {
   "cell_type": "markdown",
   "id": "f8c58a71-b752-4efc-871e-625b9a1fcd9f",
   "metadata": {
    "jp-MarkdownHeadingCollapsed": true,
    "tags": []
   },
   "source": [
    "<h2>47-48-49.  Импорт модулей / import moduls </h2>"
   ]
  },
  {
   "cell_type": "code",
   "execution_count": 14,
   "id": "325d96e2-44bd-4110-b755-fd7d5a26741e",
   "metadata": {},
   "outputs": [
    {
     "name": "stdout",
     "output_type": "stream",
     "text": [
      "math\n",
      "__main__\n"
     ]
    }
   ],
   "source": [
    "import math #импорт всей библиотеки\n",
    "import math as m #присвоение частного имени библотеке\n",
    "from math import pi, ceil #импорт отдельного модуля или функции(рекомендуется)\n",
    "from math import * #импорт всех модулей и функций(не рекомендуется из-за конфликта имен)\n",
    "from . import math #для импорта из пакетов\n",
    "print(math.__name__)\n",
    "print(__name__)"
   ]
  },
  {
   "cell_type": "code",
   "execution_count": 10,
   "id": "aefc3c72-7c15-4503-b5b6-33775d4fd296",
   "metadata": {},
   "outputs": [
    {
     "name": "stdout",
     "output_type": "stream",
     "text": [
      "['__doc__', '__loader__', '__name__', '__package__', '__spec__', 'acos', 'acosh', 'asin', 'asinh', 'atan', 'atan2', 'atanh', 'ceil', 'comb', 'copysign', 'cos', 'cosh', 'degrees', 'dist', 'e', 'erf', 'erfc', 'exp', 'expm1', 'fabs', 'factorial', 'floor', 'fmod', 'frexp', 'fsum', 'gamma', 'gcd', 'hypot', 'inf', 'isclose', 'isfinite', 'isinf', 'isnan', 'isqrt', 'lcm', 'ldexp', 'lgamma', 'log', 'log10', 'log1p', 'log2', 'modf', 'nan', 'nextafter', 'perm', 'pi', 'pow', 'prod', 'radians', 'remainder', 'sin', 'sinh', 'sqrt', 'tan', 'tanh', 'tau', 'trunc', 'ulp']\n"
     ]
    }
   ],
   "source": [
    "print(dir(math)) #просмотр функций-переменных модулей"
   ]
  },
  {
   "cell_type": "code",
   "execution_count": 11,
   "id": "b1c968a1-9446-4036-8048-87c1ecc539ee",
   "metadata": {},
   "outputs": [
    {
     "name": "stdout",
     "output_type": "stream",
     "text": [
      "{'__name__': '__main__', '__doc__': 'Automatically created module for IPython interactive environment', '__package__': None, '__loader__': None, '__spec__': None, '__builtin__': <module 'builtins' (built-in)>, '__builtins__': <module 'builtins' (built-in)>, '_ih': ['', 'print(locals())', 'print(locals()) # вывод локальных данных\\nimport math #импорт всей библиотеки\\nimport math as m #присвоение частного имени библотеке\\nfrom math import pi, ceil #импорт отдельного модуля или функции(рекомендуется)\\nfrom math import * #импорт всех модулей и функций(не рекомендуется из-за конфликта имен)\\nprint(dir(math))', 'print(locals()) # вывод локальных данных\\nimport math #импорт всей библиотеки\\nimport math as m #присвоение частного имени библотеке\\nfrom math import pi, ceil #импорт отдельного модуля или функции(рекомендуется)\\nfrom math import * #импорт всех модулей и функций(не рекомендуется из-за конфликта имен)\\nprint(dir(math)) #просмотр функций-переменных модулей', 'print(locals()) # вывод локальных данных\\nimport math #импорт всей библиотеки\\nimport math as m #присвоение частного имени библотеке\\nfrom math import pi, ceil #импорт отдельного модуля или функции(рекомендуется)\\nfrom math import * #импорт всех модулей и функций(не рекомендуется из-за конфликта имен)\\nprint(dir(math)) #просмотр функций-переменных модулей', 'print(locals()) # вывод локальных данных\\nimport math #импорт всей библиотеки\\nimport math as m #присвоение частного имени библотеке\\nfrom math import pi, ceil #импорт отдельного модуля или функции(рекомендуется)\\nfrom math import * #импорт всех модулей и функций(не рекомендуется из-за конфликта имен)\\n# print(dir(math)) #просмотр функций-переменных модулей', '# print(locals()) # вывод локальных данных\\nimport math #импорт всей библиотеки\\nimport math as m #присвоение частного имени библотеке\\nfrom math import pi, ceil #импорт отдельного модуля или функции(рекомендуется)\\nfrom math import * #импорт всех модулей и функций(не рекомендуется из-за конфликта имен)\\n# print(dir(math)) #просмотр функций-переменных модулей', 'print(locals()) # вывод локальных данных\\nimport math #импорт всей библиотеки\\nimport math as m #присвоение частного имени библотеке\\nfrom math import pi, ceil #импорт отдельного модуля или функции(рекомендуется)\\nfrom math import * #импорт всех модулей и функций(не рекомендуется из-за конфликта имен)\\nprint(dir(math)) #просмотр функций-переменных модулей', 'import sys\\nprint(sys.path)', 'import math #импорт всей библиотеки\\nimport math as m #присвоение частного имени библотеке\\nfrom math import pi, ceil #импорт отдельного модуля или функции(рекомендуется)\\nfrom math import * #импорт всех модулей и функций(не рекомендуется из-за конфликта имен)', 'print(dir(math)) #просмотр функций-переменных модулей', 'print(locals()) # вывод локальных данных'], '_oh': {}, '_dh': [WindowsPath('C:/Users/Station-88')], 'In': ['', 'print(locals())', 'print(locals()) # вывод локальных данных\\nimport math #импорт всей библиотеки\\nimport math as m #присвоение частного имени библотеке\\nfrom math import pi, ceil #импорт отдельного модуля или функции(рекомендуется)\\nfrom math import * #импорт всех модулей и функций(не рекомендуется из-за конфликта имен)\\nprint(dir(math))', 'print(locals()) # вывод локальных данных\\nimport math #импорт всей библиотеки\\nimport math as m #присвоение частного имени библотеке\\nfrom math import pi, ceil #импорт отдельного модуля или функции(рекомендуется)\\nfrom math import * #импорт всех модулей и функций(не рекомендуется из-за конфликта имен)\\nprint(dir(math)) #просмотр функций-переменных модулей', 'print(locals()) # вывод локальных данных\\nimport math #импорт всей библиотеки\\nimport math as m #присвоение частного имени библотеке\\nfrom math import pi, ceil #импорт отдельного модуля или функции(рекомендуется)\\nfrom math import * #импорт всех модулей и функций(не рекомендуется из-за конфликта имен)\\nprint(dir(math)) #просмотр функций-переменных модулей', 'print(locals()) # вывод локальных данных\\nimport math #импорт всей библиотеки\\nimport math as m #присвоение частного имени библотеке\\nfrom math import pi, ceil #импорт отдельного модуля или функции(рекомендуется)\\nfrom math import * #импорт всех модулей и функций(не рекомендуется из-за конфликта имен)\\n# print(dir(math)) #просмотр функций-переменных модулей', '# print(locals()) # вывод локальных данных\\nimport math #импорт всей библиотеки\\nimport math as m #присвоение частного имени библотеке\\nfrom math import pi, ceil #импорт отдельного модуля или функции(рекомендуется)\\nfrom math import * #импорт всех модулей и функций(не рекомендуется из-за конфликта имен)\\n# print(dir(math)) #просмотр функций-переменных модулей', 'print(locals()) # вывод локальных данных\\nimport math #импорт всей библиотеки\\nimport math as m #присвоение частного имени библотеке\\nfrom math import pi, ceil #импорт отдельного модуля или функции(рекомендуется)\\nfrom math import * #импорт всех модулей и функций(не рекомендуется из-за конфликта имен)\\nprint(dir(math)) #просмотр функций-переменных модулей', 'import sys\\nprint(sys.path)', 'import math #импорт всей библиотеки\\nimport math as m #присвоение частного имени библотеке\\nfrom math import pi, ceil #импорт отдельного модуля или функции(рекомендуется)\\nfrom math import * #импорт всех модулей и функций(не рекомендуется из-за конфликта имен)', 'print(dir(math)) #просмотр функций-переменных модулей', 'print(locals()) # вывод локальных данных'], 'Out': {}, 'get_ipython': <bound method InteractiveShell.get_ipython of <ipykernel.zmqshell.ZMQInteractiveShell object at 0x0000023DA0AB8760>>, 'exit': <IPython.core.autocall.ZMQExitAutocall object at 0x0000023DA0ACF2E0>, 'quit': <IPython.core.autocall.ZMQExitAutocall object at 0x0000023DA0ACF2E0>, '_': '', '__': '', '___': '', '_i': 'print(dir(math)) #просмотр функций-переменных модулей', '_ii': '\\nimport math #импорт всей библиотеки\\nimport math as m #присвоение частного имени библотеке\\nfrom math import pi, ceil #импорт отдельного модуля или функции(рекомендуется)\\nfrom math import * #импорт всех модулей и функций(не рекомендуется из-за конфликта имен)', '_iii': 'import sys\\nprint(sys.path)', '_i1': 'print(locals())', '_i2': 'print(locals()) # вывод локальных данных\\nimport math #импорт всей библиотеки\\nimport math as m #присвоение частного имени библотеке\\nfrom math import pi, ceil #импорт отдельного модуля или функции(рекомендуется)\\nfrom math import * #импорт всех модулей и функций(не рекомендуется из-за конфликта имен)\\nprint(dir(math))', 'math': <module 'math' (built-in)>, 'm': <module 'math' (built-in)>, 'pi': 3.141592653589793, 'ceil': <built-in function ceil>, 'acos': <built-in function acos>, 'acosh': <built-in function acosh>, 'asin': <built-in function asin>, 'asinh': <built-in function asinh>, 'atan': <built-in function atan>, 'atan2': <built-in function atan2>, 'atanh': <built-in function atanh>, 'copysign': <built-in function copysign>, 'cos': <built-in function cos>, 'cosh': <built-in function cosh>, 'degrees': <built-in function degrees>, 'dist': <built-in function dist>, 'erf': <built-in function erf>, 'erfc': <built-in function erfc>, 'exp': <built-in function exp>, 'expm1': <built-in function expm1>, 'fabs': <built-in function fabs>, 'factorial': <built-in function factorial>, 'floor': <built-in function floor>, 'fmod': <built-in function fmod>, 'frexp': <built-in function frexp>, 'fsum': <built-in function fsum>, 'gamma': <built-in function gamma>, 'gcd': <built-in function gcd>, 'hypot': <built-in function hypot>, 'isclose': <built-in function isclose>, 'isfinite': <built-in function isfinite>, 'isinf': <built-in function isinf>, 'isnan': <built-in function isnan>, 'isqrt': <built-in function isqrt>, 'lcm': <built-in function lcm>, 'ldexp': <built-in function ldexp>, 'lgamma': <built-in function lgamma>, 'log': <built-in function log>, 'log1p': <built-in function log1p>, 'log10': <built-in function log10>, 'log2': <built-in function log2>, 'modf': <built-in function modf>, 'pow': <built-in function pow>, 'radians': <built-in function radians>, 'remainder': <built-in function remainder>, 'sin': <built-in function sin>, 'sinh': <built-in function sinh>, 'sqrt': <built-in function sqrt>, 'tan': <built-in function tan>, 'tanh': <built-in function tanh>, 'trunc': <built-in function trunc>, 'prod': <built-in function prod>, 'perm': <built-in function perm>, 'comb': <built-in function comb>, 'nextafter': <built-in function nextafter>, 'ulp': <built-in function ulp>, 'e': 2.718281828459045, 'tau': 6.283185307179586, 'inf': inf, 'nan': nan, '_i3': 'print(locals()) # вывод локальных данных\\nimport math #импорт всей библиотеки\\nimport math as m #присвоение частного имени библотеке\\nfrom math import pi, ceil #импорт отдельного модуля или функции(рекомендуется)\\nfrom math import * #импорт всех модулей и функций(не рекомендуется из-за конфликта имен)\\nprint(dir(math)) #просмотр функций-переменных модулей', '_i4': 'print(locals()) # вывод локальных данных\\nimport math #импорт всей библиотеки\\nimport math as m #присвоение частного имени библотеке\\nfrom math import pi, ceil #импорт отдельного модуля или функции(рекомендуется)\\nfrom math import * #импорт всех модулей и функций(не рекомендуется из-за конфликта имен)\\nprint(dir(math)) #просмотр функций-переменных модулей', '_i5': 'print(locals()) # вывод локальных данных\\nimport math #импорт всей библиотеки\\nimport math as m #присвоение частного имени библотеке\\nfrom math import pi, ceil #импорт отдельного модуля или функции(рекомендуется)\\nfrom math import * #импорт всех модулей и функций(не рекомендуется из-за конфликта имен)\\n# print(dir(math)) #просмотр функций-переменных модулей', '_i6': '# print(locals()) # вывод локальных данных\\nimport math #импорт всей библиотеки\\nimport math as m #присвоение частного имени библотеке\\nfrom math import pi, ceil #импорт отдельного модуля или функции(рекомендуется)\\nfrom math import * #импорт всех модулей и функций(не рекомендуется из-за конфликта имен)\\n# print(dir(math)) #просмотр функций-переменных модулей', '_i7': 'print(locals()) # вывод локальных данных\\nimport math #импорт всей библиотеки\\nimport math as m #присвоение частного имени библотеке\\nfrom math import pi, ceil #импорт отдельного модуля или функции(рекомендуется)\\nfrom math import * #импорт всех модулей и функций(не рекомендуется из-за конфликта имен)\\nprint(dir(math)) #просмотр функций-переменных модулей', '_i8': 'import sys\\nprint(sys.path)', 'sys': <module 'sys' (built-in)>, '_i9': '\\nimport math #импорт всей библиотеки\\nimport math as m #присвоение частного имени библотеке\\nfrom math import pi, ceil #импорт отдельного модуля или функции(рекомендуется)\\nfrom math import * #импорт всех модулей и функций(не рекомендуется из-за конфликта имен)', '_i10': 'print(dir(math)) #просмотр функций-переменных модулей', '_i11': 'print(locals()) # вывод локальных данных'}\n"
     ]
    }
   ],
   "source": [
    "print(locals()) # вывод локальных данных"
   ]
  },
  {
   "cell_type": "code",
   "execution_count": 8,
   "id": "549f4e6b-a35c-4726-bafa-9c0ee7910f89",
   "metadata": {},
   "outputs": [
    {
     "name": "stdout",
     "output_type": "stream",
     "text": [
      "['C:\\\\Users\\\\Station-88', 'C:\\\\Users\\\\Station-88\\\\AppData\\\\Local\\\\Programs\\\\Python\\\\Python39\\\\python39.zip', 'C:\\\\Users\\\\Station-88\\\\AppData\\\\Local\\\\Programs\\\\Python\\\\Python39\\\\DLLs', 'C:\\\\Users\\\\Station-88\\\\AppData\\\\Local\\\\Programs\\\\Python\\\\Python39\\\\lib', 'C:\\\\Users\\\\Station-88\\\\AppData\\\\Local\\\\Programs\\\\Python\\\\Python39', '', 'C:\\\\Users\\\\Station-88\\\\AppData\\\\Roaming\\\\Python\\\\Python39\\\\site-packages', 'C:\\\\Users\\\\Station-88\\\\AppData\\\\Local\\\\Programs\\\\Python\\\\Python39\\\\lib\\\\site-packages', 'C:\\\\Users\\\\Station-88\\\\AppData\\\\Local\\\\Programs\\\\Python\\\\Python39\\\\lib\\\\site-packages\\\\win32', 'C:\\\\Users\\\\Station-88\\\\AppData\\\\Local\\\\Programs\\\\Python\\\\Python39\\\\lib\\\\site-packages\\\\win32\\\\lib', 'C:\\\\Users\\\\Station-88\\\\AppData\\\\Local\\\\Programs\\\\Python\\\\Python39\\\\lib\\\\site-packages\\\\Pythonwin']\n"
     ]
    }
   ],
   "source": [
    "import sys\n",
    "print(sys.path) # пути ко встроеным модулям, функциям и переменным"
   ]
  },
  {
   "cell_type": "code",
   "execution_count": null,
   "id": "1553d13e-4765-4da8-b7d0-9ce3b539bd8d",
   "metadata": {},
   "outputs": [],
   "source": [
    "# повторный импорт\n",
    "import math\n",
    "import importlib\n",
    "importlib.reload(math)"
   ]
  },
  {
   "cell_type": "code",
   "execution_count": null,
   "id": "d6ffddd5-efd8-49bf-ae3a-ae435f1313c4",
   "metadata": {},
   "outputs": [],
   "source": [
    "__all__=['get_it'] # определяет список импортируемых функций, переменных\n",
    "def get_it():\n",
    "    return 2\n",
    "def dont_get_it():\n",
    "    return 3"
   ]
  },
  {
   "cell_type": "markdown",
   "id": "b810f9b3-1d7a-4b0a-b543-5307dea4897d",
   "metadata": {},
   "source": [
    " - pip list - проверка всех сторонних модулей\n",
    " - pip freeze > name.txt - сохранение текстового документа с указанием всех установленных пакетов и их версий\n",
    " - pip install -r 'name.txt' - установка всех пакетов и модулей из файлов"
   ]
  },
  {
   "cell_type": "markdown",
   "id": "b45f0d42-938b-4358-8460-0a54c0d94f1c",
   "metadata": {
    "jp-MarkdownHeadingCollapsed": true,
    "tags": []
   },
   "source": [
    "<h2> 51-52-53. Функция open и менеджер with. Работа с файлами / Open function and manager with. Work with files </h2> "
   ]
  },
  {
   "cell_type": "code",
   "execution_count": 15,
   "id": "36c0238c-a4f3-467a-9d49-ee63b0f51c57",
   "metadata": {},
   "outputs": [
    {
     "ename": "UnicodeDecodeError",
     "evalue": "'utf-8' codec can't decode byte 0xad in position 0: invalid start byte",
     "output_type": "error",
     "traceback": [
      "\u001b[1;31m---------------------------------------------------------------------------\u001b[0m",
      "\u001b[1;31mUnicodeDecodeError\u001b[0m                        Traceback (most recent call last)",
      "Input \u001b[1;32mIn [15]\u001b[0m, in \u001b[0;36m<cell line: 11>\u001b[1;34m()\u001b[0m\n\u001b[0;32m      9\u001b[0m file\u001b[38;5;241m.\u001b[39mseek(\u001b[38;5;241m1\u001b[39m) \u001b[38;5;66;03m#смещение файловой позиции на 1-ю \u001b[39;00m\n\u001b[0;32m     10\u001b[0m file\u001b[38;5;241m.\u001b[39mtell() \u001b[38;5;66;03m#файловая позиция (в байтах (на кририллице - 1 буква = 2 байта))\u001b[39;00m\n\u001b[1;32m---> 11\u001b[0m \u001b[43mfile\u001b[49m\u001b[38;5;241;43m.\u001b[39;49m\u001b[43mreadline\u001b[49m\u001b[43m(\u001b[49m\u001b[43m)\u001b[49m \u001b[38;5;66;03m#чтение одной строки\u001b[39;00m\n\u001b[0;32m     12\u001b[0m file\u001b[38;5;241m.\u001b[39mreadlines()\n",
      "File \u001b[1;32m~\\AppData\\Local\\Programs\\Python\\Python39\\lib\\codecs.py:322\u001b[0m, in \u001b[0;36mBufferedIncrementalDecoder.decode\u001b[1;34m(self, input, final)\u001b[0m\n\u001b[0;32m    319\u001b[0m \u001b[38;5;28;01mdef\u001b[39;00m \u001b[38;5;21mdecode\u001b[39m(\u001b[38;5;28mself\u001b[39m, \u001b[38;5;28minput\u001b[39m, final\u001b[38;5;241m=\u001b[39m\u001b[38;5;28;01mFalse\u001b[39;00m):\n\u001b[0;32m    320\u001b[0m     \u001b[38;5;66;03m# decode input (taking the buffer into account)\u001b[39;00m\n\u001b[0;32m    321\u001b[0m     data \u001b[38;5;241m=\u001b[39m \u001b[38;5;28mself\u001b[39m\u001b[38;5;241m.\u001b[39mbuffer \u001b[38;5;241m+\u001b[39m \u001b[38;5;28minput\u001b[39m\n\u001b[1;32m--> 322\u001b[0m     (result, consumed) \u001b[38;5;241m=\u001b[39m \u001b[38;5;28;43mself\u001b[39;49m\u001b[38;5;241;43m.\u001b[39;49m\u001b[43m_buffer_decode\u001b[49m\u001b[43m(\u001b[49m\u001b[43mdata\u001b[49m\u001b[43m,\u001b[49m\u001b[43m \u001b[49m\u001b[38;5;28;43mself\u001b[39;49m\u001b[38;5;241;43m.\u001b[39;49m\u001b[43merrors\u001b[49m\u001b[43m,\u001b[49m\u001b[43m \u001b[49m\u001b[43mfinal\u001b[49m\u001b[43m)\u001b[49m\n\u001b[0;32m    323\u001b[0m     \u001b[38;5;66;03m# keep undecoded input until the next call\u001b[39;00m\n\u001b[0;32m    324\u001b[0m     \u001b[38;5;28mself\u001b[39m\u001b[38;5;241m.\u001b[39mbuffer \u001b[38;5;241m=\u001b[39m data[consumed:]\n",
      "\u001b[1;31mUnicodeDecodeError\u001b[0m: 'utf-8' codec can't decode byte 0xad in position 0: invalid start byte"
     ]
    }
   ],
   "source": [
    "# структура open(file [, mode='r', encoding=None, ...]) \n",
    "# file - относительный иди абсолютный путь к файлу\n",
    "# mode - ржим доступа к файлу чтение/запись\n",
    "# enciding - кодировка\n",
    "file = open(\"C:/Users/Station-88/Documents/File_for_python_study.txt\", encoding='UTF-8') \n",
    "file.read() #чтение файла \n",
    "file.read(5) #чтение опредленного количества символов со смещением файловой позиции на 5\n",
    "file.read(3) # чтение следующих 3-х символов относительно 5-й позиции\n",
    "file.seek(1) #смещение файловой позиции на 1-ю для считывания информации (но не записи)\n",
    "file.tell() #файловая позиция (в байтах (на кририллице - 1 буква = 2 байта))\n",
    "file.readline() #чтение одной строки\n",
    "file.readlines() #чтение всех строк построчно\n",
    "file.close() #закрыть файлы\n",
    "\n",
    "\n"
   ]
  },
  {
   "cell_type": "code",
   "execution_count": 20,
   "id": "c33d1de2-0c51-4f42-bb24-f087a7c45d21",
   "metadata": {},
   "outputs": [
    {
     "name": "stdout",
     "output_type": "stream",
     "text": [
      "['Это строка один\\n', 'А это строка два\\n', 'Здесь вот строка три\\n', 'И наконец строка четыре']\n"
     ]
    }
   ],
   "source": [
    "try: #проверка исключений\n",
    "    with open(\"C:/Users/Station-88/Documents/File_for_python_study.txt\", encoding='UTF-8') as file: #менеджер файлов (сам закрывает файл)\n",
    "        s = file.readlines()\n",
    "        print(s)\n",
    "except FileNotFoundError:\n",
    "    print('Невозможно откыть файл')\n",
    "except:\n",
    "    print(\"Фаил непонятный\")\n",
    "        "
   ]
  },
  {
   "cell_type": "code",
   "execution_count": 5,
   "id": "7b98ae75-04ec-445e-8842-f18d3056cbbd",
   "metadata": {},
   "outputs": [
    {
     "ename": "UnsupportedOperation",
     "evalue": "not readable",
     "output_type": "error",
     "traceback": [
      "\u001b[1;31m---------------------------------------------------------------------------\u001b[0m",
      "\u001b[1;31mUnsupportedOperation\u001b[0m                      Traceback (most recent call last)",
      "Input \u001b[1;32mIn [5]\u001b[0m, in \u001b[0;36m<cell line: 4>\u001b[1;34m()\u001b[0m\n\u001b[0;32m      1\u001b[0m file \u001b[38;5;241m=\u001b[39m \u001b[38;5;28mopen\u001b[39m(\u001b[38;5;124m'\u001b[39m\u001b[38;5;124mout.txt\u001b[39m\u001b[38;5;124m'\u001b[39m, \u001b[38;5;124m'\u001b[39m\u001b[38;5;124mw\u001b[39m\u001b[38;5;124m'\u001b[39m)\n\u001b[0;32m      2\u001b[0m file\u001b[38;5;241m.\u001b[39mwrite(\u001b[38;5;124m'\u001b[39m\u001b[38;5;124mHallo\u001b[39m\u001b[38;5;124m'\u001b[39m)\n\u001b[1;32m----> 4\u001b[0m \u001b[38;5;28mprint\u001b[39m(\u001b[43mfile\u001b[49m\u001b[38;5;241;43m.\u001b[39;49m\u001b[43mread\u001b[49m\u001b[43m(\u001b[49m\u001b[43m)\u001b[49m)\n",
      "\u001b[1;31mUnsupportedOperation\u001b[0m: not readable"
     ]
    }
   ],
   "source": [
    "file = open('out.txt', 'w') #запись в файл просходит после стирания всей информации в файле\n",
    "file.write('Hallo')\n",
    "file.writelines(['Hallo1', 'Hallo2']) #позволяет записать сразу несколько строк\n",
    "file.close()"
   ]
  },
  {
   "cell_type": "code",
   "execution_count": null,
   "id": "ddc043e6-a427-4934-a32a-a34934c0cb61",
   "metadata": {},
   "outputs": [],
   "source": [
    "file = open('out.txt', 'a') # позволяет дозапиывать в файл не удаляя предыдущую информацию файла\n",
    "file = open('out.txt', 'a+ ') # позволяет одновременно добовлять и считывать данные файла"
   ]
  },
  {
   "cell_type": "code",
   "execution_count": 11,
   "id": "2f830345-7eaa-452b-b5d9-7385a270b884",
   "metadata": {},
   "outputs": [
    {
     "name": "stdout",
     "output_type": "stream",
     "text": [
      "['Онегин', 200]\n",
      "['Муму', 250]\n",
      "['Мастер и маргарита', 500]\n"
     ]
    }
   ],
   "source": [
    "# запись в бинарный файл\n",
    "import pickle\n",
    "\n",
    "book1 = ['Онегин', 200]\n",
    "book2 = ['Муму', 250]\n",
    "book3 = ['Мастер и маргарита', 500]\n",
    "\n",
    "try:\n",
    "    with open('out.bin', 'wb') as file:\n",
    "        pickle.dump(book1, file)\n",
    "        pickle.dump(book2, file)\n",
    "        pickle.dump(book3, file)\n",
    "except:\n",
    "    print('Ошибка при работе с файлом')\n",
    "\n",
    "# чтение из бинарного файла\n",
    "\n",
    "try:\n",
    "    with open('out.bin', 'rb') as file:\n",
    "        b1 = pickle.load(file)\n",
    "        b2 = pickle.load(file)\n",
    "        b3 = pickle.load(file)\n",
    "except:\n",
    "     print('Ошибка при работе с файлом')\n",
    "print(b1, b2, b3, sep='\\n')"
   ]
  },
  {
   "cell_type": "markdown",
   "id": "0ce79d1e-836e-4114-b8ac-62d6cd75c53d",
   "metadata": {
    "jp-MarkdownHeadingCollapsed": true,
    "tags": []
   },
   "source": [
    "<h2> 54. Выражения генераторы / Expressions comprehansion </h2>\n"
   ]
  },
  {
   "cell_type": "code",
   "execution_count": 5,
   "id": "dc460efc-ad83-41df-8401-0588c4b47170",
   "metadata": {},
   "outputs": [
    {
     "name": "stdout",
     "output_type": "stream",
     "text": [
      "10\n",
      "11\n"
     ]
    },
    {
     "data": {
      "text/plain": [
       "[12, 13, 14, 15, 16, 17, 18, 19]"
      ]
     },
     "execution_count": 5,
     "metadata": {},
     "output_type": "execute_result"
    }
   ],
   "source": [
    "# выражения генераторы, в отличие от генераторов списка и множества, не хранятся в памяти, в следствии чего они не являются объектами\n",
    "# Полный набор элементов выражения можно перебрать только один раз\n",
    "# здесь () не являются кортеджем\n",
    "a = (x for x in range(10, 20))\n",
    "print(next(a))\n",
    "print(next(a))"
   ]
  },
  {
   "cell_type": "code",
   "execution_count": 8,
   "id": "f30d4096-b196-4380-85c0-28d22b986771",
   "metadata": {},
   "outputs": [
    {
     "data": {
      "text/plain": [
       "12"
      ]
     },
     "execution_count": 8,
     "metadata": {},
     "output_type": "execute_result"
    }
   ],
   "source": [
    "# к выражения генераторам можно применять итерируемые функции\n",
    "list(a)\n",
    "sum(a)\n",
    "min(a)"
   ]
  },
  {
   "cell_type": "code",
   "execution_count": 10,
   "id": "ab4c410b-782d-471f-b1fd-c3617e6e7f73",
   "metadata": {},
   "outputs": [
    {
     "ename": "TypeError",
     "evalue": "object of type 'generator' has no len()",
     "output_type": "error",
     "traceback": [
      "\u001b[1;31m---------------------------------------------------------------------------\u001b[0m",
      "\u001b[1;31mTypeError\u001b[0m                                 Traceback (most recent call last)",
      "Input \u001b[1;32mIn [10]\u001b[0m, in \u001b[0;36m<cell line: 3>\u001b[1;34m()\u001b[0m\n\u001b[0;32m      1\u001b[0m \u001b[38;5;66;03m# не нельзя применять функции объектные\u001b[39;00m\n\u001b[0;32m      2\u001b[0m a \u001b[38;5;241m=\u001b[39m (x \u001b[38;5;28;01mfor\u001b[39;00m x \u001b[38;5;129;01min\u001b[39;00m \u001b[38;5;28mrange\u001b[39m(\u001b[38;5;241m10\u001b[39m, \u001b[38;5;241m20\u001b[39m))\n\u001b[1;32m----> 3\u001b[0m \u001b[38;5;28;43mlen\u001b[39;49m\u001b[43m(\u001b[49m\u001b[43ma\u001b[49m\u001b[43m)\u001b[49m\n",
      "\u001b[1;31mTypeError\u001b[0m: object of type 'generator' has no len()"
     ]
    }
   ],
   "source": [
    "# но нельзя применять функции объектные\n",
    "a = (x for x in range(10, 20))\n",
    "len(a)"
   ]
  },
  {
   "cell_type": "code",
   "execution_count": 13,
   "id": "a38b7740-21b3-4b17-b716-f29dee35d868",
   "metadata": {},
   "outputs": [
    {
     "ename": "TypeError",
     "evalue": "'generator' object is not subscriptable",
     "output_type": "error",
     "traceback": [
      "\u001b[1;31m---------------------------------------------------------------------------\u001b[0m",
      "\u001b[1;31mTypeError\u001b[0m                                 Traceback (most recent call last)",
      "Input \u001b[1;32mIn [13]\u001b[0m, in \u001b[0;36m<cell line: 2>\u001b[1;34m()\u001b[0m\n\u001b[0;32m      1\u001b[0m \u001b[38;5;66;03m# нелья осуществлять посик по индексу\u001b[39;00m\n\u001b[1;32m----> 2\u001b[0m \u001b[43ma\u001b[49m\u001b[43m[\u001b[49m\u001b[38;5;241;43m0\u001b[39;49m\u001b[43m]\u001b[49m\n",
      "\u001b[1;31mTypeError\u001b[0m: 'generator' object is not subscriptable"
     ]
    }
   ],
   "source": [
    "# нелья осуществлять посик по индексу\n",
    "a[0]"
   ]
  },
  {
   "cell_type": "code",
   "execution_count": 12,
   "id": "528db4ed-6ac9-440b-90e6-9d363a71d06c",
   "metadata": {},
   "outputs": [
    {
     "data": {
      "text/plain": [
       "<generator object <genexpr> at 0x000001B42BC9E200>"
      ]
     },
     "execution_count": 12,
     "metadata": {},
     "output_type": "execute_result"
    }
   ],
   "source": [
    "# можно создать ссылку на генератор\n",
    "(x for x in range(10, 20))"
   ]
  },
  {
   "cell_type": "code",
   "execution_count": 14,
   "id": "c13b5cb4-92a9-4ffa-875d-2525f69c5af5",
   "metadata": {},
   "outputs": [
    {
     "name": "stdout",
     "output_type": "stream",
     "text": [
      "10\n",
      "11\n",
      "12\n",
      "13\n",
      "14\n",
      "15\n",
      "16\n",
      "17\n",
      "18\n",
      "19\n"
     ]
    }
   ],
   "source": [
    "# можно осуществляь итерации\n",
    "for i in a:\n",
    "    print(i)"
   ]
  },
  {
   "cell_type": "code",
   "execution_count": 42,
   "id": "fac73b72-bb30-4170-b1c5-6910cc916ea1",
   "metadata": {},
   "outputs": [
    {
     "name": "stdout",
     "output_type": "stream",
     "text": [
      "1\n",
      "2\n",
      "3\n",
      "1\n",
      "2\n",
      "3\n",
      "1\n",
      "2\n",
      "3\n",
      "1\n",
      "2\n"
     ]
    }
   ],
   "source": [
    "# бесконечный цикл\n",
    "from itertools import cycle\n",
    "n = 0\n",
    "for i in cycle([1, 2, 3]):\n",
    "    print(i)\n",
    "    if n == 10:\n",
    "        break\n",
    "    n += 1\n"
   ]
  },
  {
   "cell_type": "markdown",
   "id": "594f6160-7481-4bde-b4e3-9db8677e2d5c",
   "metadata": {
    "jp-MarkdownHeadingCollapsed": true,
    "tags": []
   },
   "source": [
    "<h2> 55. Функция-генератор yield / Function-comprehansion yield </h2>"
   ]
  },
  {
   "cell_type": "code",
   "execution_count": 21,
   "id": "f3114fb0-eb03-4f80-bdea-948b85864ba1",
   "metadata": {},
   "outputs": [
    {
     "name": "stdout",
     "output_type": "stream",
     "text": [
      "1\n",
      "<generator object get_list_yield at 0x000001B42BC716D0>\n",
      "1\n",
      "2\n",
      "3\n",
      "4\n"
     ]
    }
   ],
   "source": [
    "# если мы хотим вытаскивать последоватьлно по одному значению из функции, оператор return заменяется на yield \n",
    "def get_list_return(): # функция return вытаскивает только одни объект и завершает работу\n",
    "    for x in [1, 2, 3, 4]:\n",
    "        return x\n",
    "def get_list_yield(): # функция yield вытаскивает по объекту на каждой итерации\n",
    "    for x in [1, 2, 3, 4]:\n",
    "        yield x\n",
    "a = get_list_return()\n",
    "b = get_list_yield()\n",
    "print(a)\n",
    "print(b)\n",
    "for i in b:\n",
    "    print(i)"
   ]
  },
  {
   "cell_type": "code",
   "execution_count": 25,
   "id": "9d687a94-b5b7-40ab-a65e-40ee2870b9c5",
   "metadata": {},
   "outputs": [
    {
     "name": "stdout",
     "output_type": "stream",
     "text": [
      "[35, 42, 66, 104, 606, 825, 842, 864, 959, 996, 1314]\n"
     ]
    }
   ],
   "source": [
    "#пример реализации оператора yield для поиска индексов совпадающих слов в файле \n",
    "def find_word(f, word):\n",
    "    g_indx = 0\n",
    "    for line in f:\n",
    "        indx = 0\n",
    "        while (indx != -1):\n",
    "            indx = line.find(word, indx)\n",
    "            if indx > -1:\n",
    "                yield g_indx + indx\n",
    "                indx +=1 \n",
    "        g_indx += len(line)\n",
    "    \n",
    "                \n",
    "try:\n",
    "    with open('C:/Users/Station-88/PycharmProjects/Algorithm_tests/yield.txt', encoding='utf-8') as file:\n",
    "        a = find_word(file, 'кино')\n",
    "        print(list(a))\n",
    "except FileNotFoundError:\n",
    "    print('Файл не найден')\n",
    "except:\n",
    "    print('Ошибка обработки файла')\n",
    "    "
   ]
  },
  {
   "cell_type": "markdown",
   "id": "a8c3099b-44f9-4878-9ae2-144fe2bf24cd",
   "metadata": {
    "jp-MarkdownHeadingCollapsed": true,
    "tags": []
   },
   "source": [
    "<h2> 56. Функция map / Map function </h2>"
   ]
  },
  {
   "cell_type": "code",
   "execution_count": 26,
   "id": "aa216a9d-f5cc-479f-90db-7384c3acea01",
   "metadata": {},
   "outputs": [
    {
     "name": "stdout",
     "output_type": "stream",
     "text": [
      "[1, 2, 3, 5, 7]\n",
      "[1, 2, 3, 5, 7]\n"
     ]
    }
   ],
   "source": [
    "# функция map используется для применения некой функии(встроенной или созданной) к одному объекту в итерируемом списк выдавая в конце ссылку на генератор выражения\n",
    "# a и b имеют одинаковый смысл:\n",
    "a = map(int, ['1', '2', '3', '5', '7'])\n",
    "b = ( int(x) for x in ['1', '2', '3', '5', '7'])\n",
    "print(list(a), list(b), sep='\\n')"
   ]
  },
  {
   "cell_type": "code",
   "execution_count": 27,
   "id": "cc68157e-d022-45ba-99d5-485d8a2d728c",
   "metadata": {},
   "outputs": [
    {
     "name": "stdout",
     "output_type": "stream",
     "text": [
      "['ленинград', 'санкт-петербург', 'петроград']\n"
     ]
    }
   ],
   "source": [
    "# пример использования пользовательской функции\n",
    "def func(x):\n",
    "    return x.lower()\n",
    "cities = ['Ленинград', 'Санкт-Петербург', 'Петроград']\n",
    "lst = list(map(func, cities))\n",
    "print(lst)"
   ]
  },
  {
   "cell_type": "code",
   "execution_count": 31,
   "id": "fdf13a4e-63f0-4913-bdaa-476853c41501",
   "metadata": {},
   "outputs": [
    {
     "data": {
      "text/plain": [
       "['даргнинеЛ', 'грубретеП-ткнаС', 'даргортеП']"
      ]
     },
     "execution_count": 31,
     "metadata": {},
     "output_type": "execute_result"
    }
   ],
   "source": [
    "# пример использования лямбда функции\n",
    "cities = ['Ленинград', 'Санкт-Петербург', 'Петроград']\n",
    "lst = list(map(lambda x: x[::-1], cities))\n",
    "lst\n"
   ]
  },
  {
   "cell_type": "code",
   "execution_count": null,
   "id": "65cbb6fb-7cb5-487f-8c29-2e5fe8c8ca9a",
   "metadata": {},
   "outputs": [],
   "source": [
    "#оператор рапоковки работает для выражений генераторов генераторов\n",
    "m = map(int, [1, '2', 3])\n",
    "print(*m)"
   ]
  },
  {
   "cell_type": "markdown",
   "id": "189ee634-cbc0-4552-ac95-e6f65178ef74",
   "metadata": {
    "jp-MarkdownHeadingCollapsed": true,
    "tags": []
   },
   "source": [
    "<h2> 57. Функция filter / Filter function </h2>"
   ]
  },
  {
   "cell_type": "code",
   "execution_count": 34,
   "id": "066bc0f5-42e7-427b-a6fb-b7681da035bf",
   "metadata": {},
   "outputs": [
    {
     "data": {
      "text/plain": [
       "['Ленинград', 'Петроград']"
      ]
     },
     "execution_count": 34,
     "metadata": {},
     "output_type": "execute_result"
    }
   ],
   "source": [
    "# filter осуществляет фильтрацию элементов итерируемого объекта (работа функции схожа с map)\n",
    "# filter это булев опереатор и пропускает только True значения\n",
    "# применение лямбда функции\n",
    "cities = ['Ленинград', 'Санкт-Петербург1', 'Петроград']\n",
    "lst = list(filter(lambda x: x.isalpha(), cities))\n",
    "# аналогичаня форма\n",
    "lst1 = list(filter(str.isalpha, cities))\n",
    "lst1\n"
   ]
  },
  {
   "cell_type": "code",
   "execution_count": 37,
   "id": "df2e599b-06de-47dc-9464-0079a7c20176",
   "metadata": {},
   "outputs": [
    {
     "data": {
      "text/plain": [
       "[1, 2, 3, 5, 7]"
      ]
     },
     "execution_count": 37,
     "metadata": {},
     "output_type": "execute_result"
    }
   ],
   "source": [
    "# робота filter с пользовательской функцией\n",
    "# определим функцию выявления простых значений (делящихся только на себя и 1)\n",
    "def is_simple(x):\n",
    "    d = x - 1 \n",
    "    if d < 0:\n",
    "        return False\n",
    "    while d > 1:\n",
    "        if x % d == 0:\n",
    "            return False\n",
    "        d -= 1\n",
    "    return True\n",
    "\n",
    "a = list(range(11))\n",
    "lst = list(filter(is_simple, a))\n",
    "lst"
   ]
  },
  {
   "cell_type": "code",
   "execution_count": 39,
   "id": "3be35730-f146-47d8-89c1-663c54f8623c",
   "metadata": {},
   "outputs": [
    {
     "data": {
      "text/plain": [
       "[1, 3, 5, 7]"
      ]
     },
     "execution_count": 39,
     "metadata": {},
     "output_type": "execute_result"
    }
   ],
   "source": [
    "# вложенная фильтрация\n",
    "# поиск простых нечетных чисел\n",
    "lst = list(filter(lambda x: x % 2 != 0, filter(is_simple, a)))\n",
    "lst"
   ]
  },
  {
   "cell_type": "markdown",
   "id": "169af206-5121-498e-928f-772c37a711be",
   "metadata": {
    "jp-MarkdownHeadingCollapsed": true,
    "tags": []
   },
   "source": [
    "<h2> 59. Функция zip / Zip function </h2>"
   ]
  },
  {
   "cell_type": "code",
   "execution_count": 1,
   "id": "06d9894c-a6cb-4e9b-a4a6-fb44cc7b5bb2",
   "metadata": {},
   "outputs": [
    {
     "name": "stdout",
     "output_type": "stream",
     "text": [
      "(1, 5, 'p')\n",
      "(2, 6, 'y')\n",
      "(3, 7, 't')\n",
      "(4, 8, 'h')\n"
     ]
    }
   ],
   "source": [
    "# переебирает посимвольно итерируемые элементы пока не дойдет до конца самой короткой коллекции\n",
    "a = [1, 2, 3 , 4] # дляна 4\n",
    "b = [5, 6, 7, 8, 9, 10] # длина 6\n",
    "c = 'python' # длина 6\n",
    "\n",
    "z = zip(a, b, c) # длина 4\n",
    "for i in z:\n",
    "    print(i)"
   ]
  },
  {
   "cell_type": "code",
   "execution_count": 2,
   "id": "80c057b6-4379-47c3-9e4d-aad34e2355b3",
   "metadata": {},
   "outputs": [
    {
     "name": "stdout",
     "output_type": "stream",
     "text": [
      "(1, 5, 'p')\n",
      "(2, 6, 'y')\n",
      "(3, 7, 't')\n",
      "(4, 8, 'h')\n"
     ]
    }
   ],
   "source": [
    "z1, z2, z3, z4 = zip(a, b, c)\n",
    "print(z1, z2, z3, z4, sep='\\n')"
   ]
  },
  {
   "cell_type": "code",
   "execution_count": 3,
   "id": "0f554384-d1ef-4b29-b8b6-a2bda98a2cf7",
   "metadata": {},
   "outputs": [
    {
     "name": "stdout",
     "output_type": "stream",
     "text": [
      "(1, 5, 'p') (2, 6, 'y') (3, 7, 't') (4, 8, 'h')\n"
     ]
    }
   ],
   "source": [
    "z = zip(a, b, c)\n",
    "print(*z)"
   ]
  },
  {
   "cell_type": "code",
   "execution_count": 5,
   "id": "ab614009-9fab-4086-a3d2-8042e3ab3f85",
   "metadata": {},
   "outputs": [
    {
     "name": "stdout",
     "output_type": "stream",
     "text": [
      "(1, 5, 'p') (2, 6, 'y') (3, 7, 't') (4, 8, 'h')\n"
     ]
    }
   ],
   "source": [
    "z = list(zip(a, b, c))\n",
    "print(*z)"
   ]
  },
  {
   "cell_type": "code",
   "execution_count": null,
   "id": "93240b9c-6981-4f34-97ce-4f8102c54f11",
   "metadata": {},
   "outputs": [],
   "source": [
    "# работа со списком итератором\n",
    "x = iter([1, 2, 3, 4, 5, 6, 7, 8, 9, 10])\n",
    "print(*zip(x, x, x))"
   ]
  },
  {
   "cell_type": "markdown",
   "id": "82a7ac5a-a181-4000-8074-65ba8fff561c",
   "metadata": {},
   "source": [
    "<h2> 59. Функции sort и sorted / Sort and sorted functions </h2>"
   ]
  },
  {
   "cell_type": "code",
   "execution_count": 18,
   "id": "3a5a7524-9c49-422a-858e-01a5c0b54660",
   "metadata": {},
   "outputs": [],
   "source": [
    "# sort() - применим только к спискам, изменяет занчения текущего списка\n",
    "# sorted() - применима ко всему, создает новую переменную\n",
    "s = [1, 3, 4, 2]\n",
    "t = (3, 2, 1, 4)\n",
    "d = {'дом': 11, 'машина': 2, 'архангел': 4} "
   ]
  },
  {
   "cell_type": "code",
   "execution_count": 11,
   "id": "29a0116d-ca32-46f2-9add-1a5dd752b9da",
   "metadata": {},
   "outputs": [
    {
     "data": {
      "text/plain": [
       "[1, 2, 3, 4]"
      ]
     },
     "execution_count": 11,
     "metadata": {},
     "output_type": "execute_result"
    }
   ],
   "source": [
    "s.sort()\n",
    "s"
   ]
  },
  {
   "cell_type": "code",
   "execution_count": 12,
   "id": "d40a6d0f-6692-488d-8bde-7bf4a6513d69",
   "metadata": {},
   "outputs": [
    {
     "ename": "AttributeError",
     "evalue": "'tuple' object has no attribute 'sort'",
     "output_type": "error",
     "traceback": [
      "\u001b[1;31m---------------------------------------------------------------------------\u001b[0m",
      "\u001b[1;31mAttributeError\u001b[0m                            Traceback (most recent call last)",
      "Input \u001b[1;32mIn [12]\u001b[0m, in \u001b[0;36m<cell line: 1>\u001b[1;34m()\u001b[0m\n\u001b[1;32m----> 1\u001b[0m \u001b[43mt\u001b[49m\u001b[38;5;241;43m.\u001b[39;49m\u001b[43msort\u001b[49m()\n",
      "\u001b[1;31mAttributeError\u001b[0m: 'tuple' object has no attribute 'sort'"
     ]
    }
   ],
   "source": [
    "t.sort()"
   ]
  },
  {
   "cell_type": "code",
   "execution_count": 14,
   "id": "d99e198b-cce4-4bb7-8455-182c0b57df5c",
   "metadata": {},
   "outputs": [
    {
     "data": {
      "text/plain": [
       "[1, 2, 3, 4]"
      ]
     },
     "execution_count": 14,
     "metadata": {},
     "output_type": "execute_result"
    }
   ],
   "source": [
    "t1 = sorted(t)\n",
    "t1"
   ]
  },
  {
   "cell_type": "code",
   "execution_count": 16,
   "id": "867a344f-66e7-45d6-bf56-ce6a37f50f71",
   "metadata": {},
   "outputs": [
    {
     "data": {
      "text/plain": [
       "[4, 3, 2, 1]"
      ]
     },
     "execution_count": 16,
     "metadata": {},
     "output_type": "execute_result"
    }
   ],
   "source": [
    "t2 = sorted(t, reverse=True)\n",
    "t2"
   ]
  },
  {
   "cell_type": "code",
   "execution_count": 19,
   "id": "006d7cc8-c69f-4104-b44e-3450c7a25eaa",
   "metadata": {},
   "outputs": [
    {
     "name": "stdout",
     "output_type": "stream",
     "text": [
      "['архангел', 'дом', 'машина']\n",
      "[2, 4, 11]\n",
      "[('архангел', 4), ('дом', 11), ('машина', 2)]\n"
     ]
    }
   ],
   "source": [
    "d1 = sorted(d) # сортировка по ключу\n",
    "d2 = sorted(d.values()) #сортировка по значениям\n",
    "d3 = sorted(d.items()) #сортировка по ключу с возвратом кортеджа ключ-значение\n",
    "print(d1, d2, d3, sep='\\n')"
   ]
  },
  {
   "cell_type": "code",
   "execution_count": 20,
   "id": "079350ac-2402-40ef-b732-77eb86125529",
   "metadata": {},
   "outputs": [
    {
     "data": {
      "text/plain": [
       "{'архангел': 4, 'дом': 11, 'машина': 2}"
      ]
     },
     "execution_count": 20,
     "metadata": {},
     "output_type": "execute_result"
    }
   ],
   "source": [
    "#создание нового, отсортированного, словаря\n",
    "d3_sorted = dict(d3)\n",
    "d3_sorted"
   ]
  },
  {
   "cell_type": "markdown",
   "id": "4b3d1cc8-f314-47e8-8f23-7e6ab8267ec1",
   "metadata": {},
   "source": [
    "<h2> 60. Аргумент key для сортировки коллекций / Argument key for collection sorting </h2>\n"
   ]
  },
  {
   "cell_type": "code",
   "execution_count": 23,
   "id": "2e226852-6ab5-44ca-b392-29a4d8ba2e2d",
   "metadata": {},
   "outputs": [
    {
     "data": {
      "text/plain": [
       "[4, 2, -10, 12, 6, 7, 9]"
      ]
     },
     "execution_count": 23,
     "metadata": {},
     "output_type": "execute_result"
    }
   ],
   "source": [
    "#сортировка коллекции происходит по заданному ключу\n",
    "\"\"\"примеры использования\"\"\"\n",
    "# сортировка по четным/нечетным (слева все четные, справа нечетные)\n",
    "a = [4, 2, -10, 7, 12, 6, 9]\n",
    "a.sort(key=lambda x: x % 2)\n",
    "a\n"
   ]
  },
  {
   "cell_type": "code",
   "execution_count": 24,
   "id": "480fd9b4-1f89-4241-91c8-209d32a20c1c",
   "metadata": {},
   "outputs": [
    {
     "data": {
      "text/plain": [
       "[-10, 2, 4, 6, 12, 7, 9]"
      ]
     },
     "execution_count": 24,
     "metadata": {},
     "output_type": "execute_result"
    }
   ],
   "source": [
    "# сортировка по четным/нечетным и по ворзастанию\n",
    "def even_odd(x): # 100 взято для четкого разделения нечетных чисел от четных\n",
    "    return x if x % 2 == 0 else x+100\n",
    "b = sorted(a, key=even_odd)\n",
    "b"
   ]
  },
  {
   "cell_type": "code",
   "execution_count": 25,
   "id": "2663123e-5b09-4d5a-8670-c3ada62ff2ff",
   "metadata": {},
   "outputs": [
    {
     "data": {
      "text/plain": [
       "['Екатиренбург', 'Ленинград', 'Москва', 'Ростов']"
      ]
     },
     "execution_count": 25,
     "metadata": {},
     "output_type": "execute_result"
    }
   ],
   "source": [
    "# сортировка по длине слова с использованием встроенной функции\n",
    "cities = ['Москва', 'Ленинград', 'Ростов', 'Екатиренбург']\n",
    "c = sorted(cities, key=len, reverse=True)\n",
    "c"
   ]
  },
  {
   "cell_type": "code",
   "execution_count": 31,
   "id": "bc6a258a-2239-4c71-be50-0875d2997a44",
   "metadata": {},
   "outputs": [
    {
     "data": {
      "text/plain": [
       "(('Мертвые души', 190),\n",
       " ('Онегин', 200),\n",
       " ('Муму', 250),\n",
       " ('Мастер и Маргарита', 500))"
      ]
     },
     "execution_count": 31,
     "metadata": {},
     "output_type": "execute_result"
    }
   ],
   "source": [
    "# сортировка по ценам\n",
    "books = (\n",
    "    ('Онегин', 200),\n",
    "    ('Муму', 250),\n",
    "    ('Мастер и Маргарита', 500),\n",
    "    ('Мертвые души', 190)\n",
    ")\n",
    "\n",
    "b = tuple(sorted(books, key=lambda x: x[1]))\n",
    "b"
   ]
  },
  {
   "cell_type": "markdown",
   "id": "56d4ad87-6068-43e8-910d-3f73bd5c7fc9",
   "metadata": {
    "tags": []
   },
   "source": [
    "<h2> 61. Функции isinstance и type / Isinstance and type functions </h2>"
   ]
  },
  {
   "cell_type": "code",
   "execution_count": 35,
   "id": "03d5759c-cbec-4a96-9572-5918d7e02c47",
   "metadata": {},
   "outputs": [],
   "source": [
    "# основное отличие мжеду isinstance и type в том что, isinstance учитывает наследование а type нет\n",
    "a = 1\n",
    "b = True"
   ]
  },
  {
   "cell_type": "code",
   "execution_count": 36,
   "id": "92f9a6df-c737-446c-9936-c331d81ce9fb",
   "metadata": {},
   "outputs": [
    {
     "data": {
      "text/plain": [
       "True"
      ]
     },
     "execution_count": 36,
     "metadata": {},
     "output_type": "execute_result"
    }
   ],
   "source": [
    "isinstance(a, int)"
   ]
  },
  {
   "cell_type": "code",
   "execution_count": 37,
   "id": "bfc49e48-e15d-418a-9c0a-dbc31304714a",
   "metadata": {},
   "outputs": [
    {
     "data": {
      "text/plain": [
       "True"
      ]
     },
     "execution_count": 37,
     "metadata": {},
     "output_type": "execute_result"
    }
   ],
   "source": [
    "isinstance(b, bool)"
   ]
  },
  {
   "cell_type": "code",
   "execution_count": 38,
   "id": "91c72c6a-33cf-432f-ba33-fdeb8df3f03f",
   "metadata": {},
   "outputs": [
    {
     "data": {
      "text/plain": [
       "True"
      ]
     },
     "execution_count": 38,
     "metadata": {},
     "output_type": "execute_result"
    }
   ],
   "source": [
    "isinstance(b, int) # так как bool наследуется от int"
   ]
  },
  {
   "cell_type": "code",
   "execution_count": 47,
   "id": "2fad319a-0874-4573-b4e5-1f877fbb477f",
   "metadata": {},
   "outputs": [
    {
     "data": {
      "text/plain": [
       "True"
      ]
     },
     "execution_count": 47,
     "metadata": {},
     "output_type": "execute_result"
    }
   ],
   "source": [
    "type(a) is int"
   ]
  },
  {
   "cell_type": "code",
   "execution_count": 40,
   "id": "8a82309f-5f1d-46b9-8008-7907b66a9de7",
   "metadata": {},
   "outputs": [
    {
     "data": {
      "text/plain": [
       "True"
      ]
     },
     "execution_count": 40,
     "metadata": {},
     "output_type": "execute_result"
    }
   ],
   "source": [
    "type(b) == bool"
   ]
  },
  {
   "cell_type": "code",
   "execution_count": 41,
   "id": "51e634ad-5026-496b-bec8-62e652579467",
   "metadata": {},
   "outputs": [
    {
     "data": {
      "text/plain": [
       "False"
      ]
     },
     "execution_count": 41,
     "metadata": {},
     "output_type": "execute_result"
    }
   ],
   "source": [
    "type(b) == int # не учитывает наследование"
   ]
  },
  {
   "cell_type": "code",
   "execution_count": 42,
   "id": "716bfd81-9068-45ce-a47f-79f4163e478d",
   "metadata": {},
   "outputs": [
    {
     "data": {
      "text/plain": [
       "True"
      ]
     },
     "execution_count": 42,
     "metadata": {},
     "output_type": "execute_result"
    }
   ],
   "source": [
    "# проверка на принадлежность к любому из классов\n",
    "isinstance(a, (int, float))"
   ]
  },
  {
   "cell_type": "code",
   "execution_count": 43,
   "id": "1b8d856e-f6fb-438b-ace7-bc9234af1c08",
   "metadata": {},
   "outputs": [
    {
     "data": {
      "text/plain": [
       "13.2"
      ]
     },
     "execution_count": 43,
     "metadata": {},
     "output_type": "execute_result"
    }
   ],
   "source": [
    "# Пример нахождения суммы экземпляров одного класса \n",
    "# в мультиклассовой коллекции\n",
    "data = (4.5, 8.7, True, 'book', 8, 10, -11, [True, False])"
   ]
  },
  {
   "cell_type": "code",
   "execution_count": 45,
   "id": "ad956b07-f413-4e61-9742-15f9b2719d9b",
   "metadata": {},
   "outputs": [
    {
     "data": {
      "text/plain": [
       "13.2"
      ]
     },
     "execution_count": 45,
     "metadata": {},
     "output_type": "execute_result"
    }
   ],
   "source": [
    "# Версия 1\n",
    "s = 0\n",
    "for i in data:\n",
    "    if isinstance(i, float):\n",
    "        s += i\n",
    "s"
   ]
  },
  {
   "cell_type": "code",
   "execution_count": 44,
   "id": "7184616e-4bbb-4f18-8c1e-4eb472e53430",
   "metadata": {},
   "outputs": [
    {
     "data": {
      "text/plain": [
       "13.2"
      ]
     },
     "execution_count": 44,
     "metadata": {},
     "output_type": "execute_result"
    }
   ],
   "source": [
    "# Версия 2\n",
    "s = sum(filter(lambda i: isinstance(i, float), data))\n",
    "s"
   ]
  },
  {
   "cell_type": "code",
   "execution_count": 48,
   "id": "97d43790-812e-4ab4-bcb0-4450c1609cf8",
   "metadata": {},
   "outputs": [
    {
     "data": {
      "text/plain": [
       "7"
      ]
     },
     "execution_count": 48,
     "metadata": {},
     "output_type": "execute_result"
    }
   ],
   "source": [
    "# Для сложения int используется type так как он не учитывает True(1) и False(0)\n",
    "s = sum(filter(lambda i: type(i) is int, data))\n",
    "s"
   ]
  },
  {
   "cell_type": "markdown",
   "id": "f6944003-9559-49f5-80c5-7ece657e6f21",
   "metadata": {
    "jp-MarkdownHeadingCollapsed": true,
    "tags": []
   },
   "source": [
    "<h2> 62. Функции all и any / All and any functions </h2>"
   ]
  },
  {
   "cell_type": "code",
   "execution_count": null,
   "id": "d0b166f2-b096-4251-bb46-48e091af2f74",
   "metadata": {},
   "outputs": [],
   "source": [
    "# all и any все значения коллекции преобразует в тип boolen\n",
    "# all - все элементы True\n",
    "# any - хотябы один элемент True\n"
   ]
  },
  {
   "cell_type": "code",
   "execution_count": 49,
   "id": "ebe5ef47-3058-4849-a12a-9e187ca86113",
   "metadata": {},
   "outputs": [
    {
     "data": {
      "text/plain": [
       "True"
      ]
     },
     "execution_count": 49,
     "metadata": {},
     "output_type": "execute_result"
    }
   ],
   "source": [
    "# All True\n",
    "alT = [1, 1.1, 'python', [1], (1, 2)]\n",
    "all(alT)"
   ]
  },
  {
   "cell_type": "code",
   "execution_count": 51,
   "id": "17a106cd-8dd5-4a5b-9e55-7c6f2c5ebf57",
   "metadata": {},
   "outputs": [
    {
     "data": {
      "text/plain": [
       "False"
      ]
     },
     "execution_count": 51,
     "metadata": {},
     "output_type": "execute_result"
    }
   ],
   "source": [
    "# ALL False \n",
    "alF = [0, 1.1, 'python', [], (1, 2)]\n",
    "all(alF)"
   ]
  },
  {
   "cell_type": "code",
   "execution_count": 60,
   "id": "33cb7e24-1581-452b-8a87-8848c7e10cfb",
   "metadata": {},
   "outputs": [
    {
     "data": {
      "text/plain": [
       "True"
      ]
     },
     "execution_count": 60,
     "metadata": {},
     "output_type": "execute_result"
    }
   ],
   "source": [
    "# All пользовательская\n",
    "alT = [1, 1.1, 'python', [1], (1, 2)]\n",
    "all_cust = True\n",
    "for x in alT:\n",
    "    all_cust = all_cust and bool(x) # если заменить and на * то булево значение выведется как (1 или 0)\n",
    "all_cust"
   ]
  },
  {
   "cell_type": "code",
   "execution_count": 78,
   "id": "fe7a5d09-b739-4ebd-ae75-d58bd78aa941",
   "metadata": {},
   "outputs": [
    {
     "name": "stdout",
     "output_type": "stream",
     "text": [
      "False False True\n",
      "False True False\n",
      "True False\n"
     ]
    }
   ],
   "source": [
    "# Пример реализации ALL\n",
    "# Игра крестики нолики\n",
    "xo = ['x', 'x', 'o', \n",
    "      'o', 'x', 'o',\n",
    "      'x', 'x', 'x']\n",
    "def true_x(x): # функция проверки значения на крестик\n",
    "    return x == 'x'\n",
    "# проверка по строкам\n",
    "row_1 = all(map(true_x, xo[:3]))\n",
    "row_2 = all(map(true_x, xo[3:6]))\n",
    "row_3 = all(map(true_x, xo[6:]))\n",
    "# проверка по столбцам\n",
    "col_1 = all(map(true_x, xo[::3]))\n",
    "col_2 = all(map(true_x, xo[1::3]))\n",
    "col_3 = all(map(true_x, xo[2::3]))\n",
    "# проверка по диагонали\n",
    "diag_1 = all(map(true_x, (xo[0], xo[4], xo[8])))\n",
    "diag_2 = all(map(true_x, xo[2::4]))\n",
    "print(row_1, row_2, row_3)\n",
    "print(col_1, col_2, col_3)\n",
    "print(diag_1, diag_2)"
   ]
  },
  {
   "cell_type": "code",
   "execution_count": 66,
   "id": "5d40c67e-bda4-45af-8418-b8adaef96818",
   "metadata": {},
   "outputs": [
    {
     "data": {
      "text/plain": [
       "True"
      ]
     },
     "execution_count": 66,
     "metadata": {},
     "output_type": "execute_result"
    }
   ],
   "source": [
    "# ANY True\n",
    "anT = [0, 1.1, '', [], ()]\n",
    "any(anT)"
   ]
  },
  {
   "cell_type": "code",
   "execution_count": 67,
   "id": "e0f8c713-59ba-4bc7-a770-040cafafeda4",
   "metadata": {},
   "outputs": [
    {
     "data": {
      "text/plain": [
       "False"
      ]
     },
     "execution_count": 67,
     "metadata": {},
     "output_type": "execute_result"
    }
   ],
   "source": [
    "# ANY False\n",
    "anF = [0, 0, '', [], ()]\n",
    "any(anF)"
   ]
  },
  {
   "cell_type": "code",
   "execution_count": 70,
   "id": "6e61e416-e5eb-463e-8166-04bc05b74284",
   "metadata": {},
   "outputs": [
    {
     "data": {
      "text/plain": [
       "True"
      ]
     },
     "execution_count": 70,
     "metadata": {},
     "output_type": "execute_result"
    }
   ],
   "source": [
    "# ANY пользовательская\n",
    "anT = [0, 1.1, '', [], ()]\n",
    "any_cust = False\n",
    "for x in anT:\n",
    "    any_cust = any_cust or bool(x) \n",
    "any_cust"
   ]
  },
  {
   "cell_type": "code",
   "execution_count": 90,
   "id": "aa26c4ac-ea1c-4dd4-9d1d-c5b499725c92",
   "metadata": {},
   "outputs": [
    {
     "data": {
      "text/plain": [
       "True"
      ]
     },
     "execution_count": 90,
     "metadata": {},
     "output_type": "execute_result"
    }
   ],
   "source": [
    "#Пример реализации ANY\n",
    "# Игра сапер\n",
    "N = 10\n",
    "sap = [0] * (N*N)\n",
    "sap[5] = '*'\n",
    "\n",
    "loss = any(map(lambda x: x == '*', sap))\n",
    "loss # True - проиграл"
   ]
  },
  {
   "cell_type": "markdown",
   "id": "1b0153bf-da0f-4a9d-8b43-bf8bb77b7815",
   "metadata": {},
   "source": [
    "<h2> 63. Системы счисления (СС) / Number systems </h2>"
   ]
  },
  {
   "cell_type": "code",
   "execution_count": 1,
   "id": "21a3e767-ee7b-4902-b047-b296cb41f8d4",
   "metadata": {},
   "outputs": [
    {
     "data": {
      "text/plain": [
       "500.0"
      ]
     },
     "execution_count": 1,
     "metadata": {},
     "output_type": "execute_result"
    }
   ],
   "source": [
    "# e2 - это 10^2\n",
    "a = 5e2 \n",
    "a"
   ]
  },
  {
   "cell_type": "code",
   "execution_count": 3,
   "id": "9f7656ec-4db8-454f-9460-30366cf3a917",
   "metadata": {},
   "outputs": [
    {
     "data": {
      "text/plain": [
       "123.0"
      ]
     },
     "execution_count": 3,
     "metadata": {},
     "output_type": "execute_result"
    }
   ],
   "source": [
    "# Десятиричная CC (0-9)\n",
    "a_123 = 1e2 + 2e1 + 3e0\n",
    "a_123"
   ]
  },
  {
   "cell_type": "code",
   "execution_count": 8,
   "id": "fe585eee-9630-40b0-b2e5-cdf8e81c6359",
   "metadata": {},
   "outputs": [
    {
     "name": "stdout",
     "output_type": "stream",
     "text": [
      "13 13 0b1101\n"
     ]
    }
   ],
   "source": [
    "# Двоичная CC  (0-1)\n",
    "# Запись через 0b...\n",
    "a_1101 = 1*2**3 + 1*2**2 + 0*0**1 + 1*1**0\n",
    "a_13 = 0b1101\n",
    "a_bin = bin(a_13) # преобразование 10-CC -> 2-СС\n",
    "print(a_1101, a_13, a_bin)"
   ]
  },
  {
   "cell_type": "markdown",
   "id": "3ce0ed8f-600c-441d-98c5-086002fb2f88",
   "metadata": {},
   "source": [
    "2-СС стала популярной благодаря работе с битами (0 или 1)"
   ]
  },
  {
   "cell_type": "code",
   "execution_count": 13,
   "id": "e987e2be-350f-47d9-a20c-c6ec718d8ef8",
   "metadata": {},
   "outputs": [
    {
     "name": "stdout",
     "output_type": "stream",
     "text": [
      "26 26\n"
     ]
    }
   ],
   "source": [
    "# Шеснадцатиричная СС (0-9 A-F)\n",
    "dct_16 = {'A': 10, 'B':11, 'C':12, 'D':13, 'E':14, 'F':15}\n",
    "a_1A = 1*16**1 + dct_16['A']*16**0\n",
    "a_26 = 0x1A\n",
    "print(a_1A, a_26)"
   ]
  },
  {
   "cell_type": "markdown",
   "id": "ede5dede-434a-40cf-a361-84be6ac49e10",
   "metadata": {},
   "source": [
    "16-CC  получила широкое распростронение из-за работы с байтами (8-бит).\n",
    "так половина байта может иметь 16 различных вариаций битов и вторая половина также. \n",
    "Итого 1-байт можно записать в виде 16-СС - F2(или 5B) "
   ]
  },
  {
   "cell_type": "code",
   "execution_count": 14,
   "id": "43bf523f-b6c5-4458-9b1d-b0601654cc2e",
   "metadata": {},
   "outputs": [
    {
     "name": "stdout",
     "output_type": "stream",
     "text": [
      "23 23\n"
     ]
    }
   ],
   "source": [
    "# Восьмиричная СС (0-7)\n",
    "a_27 = 2*8**1 + 7*8**0\n",
    "a_23 = 0o27\n",
    "print(a_27, a_23)"
   ]
  },
  {
   "cell_type": "markdown",
   "id": "f04b04cf-4624-4ef4-bdd1-5716ee54513b",
   "metadata": {
    "jp-MarkdownHeadingCollapsed": true,
    "tags": []
   },
   "source": [
    "<h2> 64. Битовые операции И, ИЛИ, НЕ, XOR / Bit operations </h2>"
   ]
  },
  {
   "attachments": {
    "8aa62c19-d4e7-4f27-85a5-8406d4f89af1.png": {
     "image/png": "[encoded data removed]"
    }
   },
   "cell_type": "markdown",
   "id": "3d5d10b8-50d2-44c7-b523-2c19de89f716",
   "metadata": {},
   "source": [
    "НЕ\n",
    "![image.png](attachment:8aa62c19-d4e7-4f27-85a5-8406d4f89af1.png)"
   ]
  },
  {
   "cell_type": "code",
   "execution_count": 15,
   "id": "9f5ad542-0b23-4291-aa13-4c27e036e419",
   "metadata": {},
   "outputs": [
    {
     "data": {
      "text/plain": [
       "-111"
      ]
     },
     "execution_count": 15,
     "metadata": {},
     "output_type": "execute_result"
    }
   ],
   "source": [
    "# НЕ [~] \n",
    "a = 110\n",
    "~a"
   ]
  },
  {
   "cell_type": "code",
   "execution_count": 16,
   "id": "5c1975a4-37de-453d-b131-17b220c8d8b6",
   "metadata": {},
   "outputs": [
    {
     "data": {
      "text/plain": [
       "-1"
      ]
     },
     "execution_count": 16,
     "metadata": {},
     "output_type": "execute_result"
    }
   ],
   "source": [
    "# инверсия происходит в связи с 0 (-3, -2, -1 | 0, 1, 2)\n",
    "a= 0\n",
    "~a"
   ]
  },
  {
   "attachments": {
    "6869089c-b47b-4e2e-aa86-06588dfbe2f9.png": {
     "image/png": "[encoded data removed]"
    }
   },
   "cell_type": "markdown",
   "id": "735484c9-8c39-4a7b-9d6a-3c117ea76965",
   "metadata": {},
   "source": [
    "И\n",
    "![image.png](attachment:6869089c-b47b-4e2e-aa86-06588dfbe2f9.png)"
   ]
  },
  {
   "cell_type": "code",
   "execution_count": 17,
   "id": "b988db2e-ee82-46da-9447-4bf268ef8ba5",
   "metadata": {},
   "outputs": [
    {
     "data": {
      "text/plain": [
       "4"
      ]
     },
     "execution_count": 17,
     "metadata": {},
     "output_type": "execute_result"
    }
   ],
   "source": [
    "# И [&] \n",
    "flags = 5          #00000101\n",
    "mask = 4           #00000100\n",
    "res = flags & mask #00000100\n",
    "res"
   ]
  },
  {
   "cell_type": "code",
   "execution_count": 18,
   "id": "8059e292-b80f-4f37-9b71-eae54b8af086",
   "metadata": {},
   "outputs": [
    {
     "name": "stdout",
     "output_type": "stream",
     "text": [
      "bit_2 on\n"
     ]
    }
   ],
   "source": [
    "# проверка включения 2-ого бита в flags\n",
    "flags = 5          #00000101\n",
    "mask = 4           #00000100\n",
    "if flags & mask == mask:\n",
    "    print('bit_2 on')\n",
    "else:\n",
    "    print('bit_2 off')"
   ]
  },
  {
   "cell_type": "code",
   "execution_count": 25,
   "id": "84e81671-9b73-44e9-b4fe-5b574b99962b",
   "metadata": {},
   "outputs": [
    {
     "data": {
      "text/plain": [
       "8"
      ]
     },
     "execution_count": 25,
     "metadata": {},
     "output_type": "execute_result"
    }
   ],
   "source": [
    "# выключим несоответствующие маске биты (по сути вычитание) \n",
    "flags = 13     #00001101\n",
    "mask = 5      #~11111010\n",
    "flags &= ~mask #00001000\n",
    "flags"
   ]
  },
  {
   "attachments": {
    "5acaccb0-d840-4ff7-a938-e298d22f745d.png": {
     "image/png": "[encoded data removed]"
    }
   },
   "cell_type": "markdown",
   "id": "e457a880-1dff-4946-a3d5-df5831c59374",
   "metadata": {},
   "source": [
    "ИЛИ![image.png](attachment:5acaccb0-d840-4ff7-a938-e298d22f745d.png)"
   ]
  },
  {
   "cell_type": "code",
   "execution_count": 26,
   "id": "478ff7a6-d574-4f85-b93c-8eecb6099ab1",
   "metadata": {},
   "outputs": [
    {
     "data": {
      "text/plain": [
       "13"
      ]
     },
     "execution_count": 26,
     "metadata": {},
     "output_type": "execute_result"
    }
   ],
   "source": [
    "# ИЛИ [|]\n",
    "# Включим соответствующие маске биты (по сути сложение) \n",
    "flags = 8     #00001000\n",
    "mask = 5      #00000101\n",
    "flags |= mask #00001101\n",
    "flags"
   ]
  },
  {
   "attachments": {
    "bbf6245f-4537-4411-ba1c-a1167533f769.png": {
     "image/png": "[encoded data removed]"
    }
   },
   "cell_type": "markdown",
   "id": "9d0f3825-d7a3-4a95-a7fc-09d333111d0d",
   "metadata": {},
   "source": [
    "XOR![image.png](attachment:bbf6245f-4537-4411-ba1c-a1167533f769.png)"
   ]
  },
  {
   "cell_type": "code",
   "execution_count": 29,
   "id": "b22ac1d2-2a6c-427a-baaa-e23d8bdfa077",
   "metadata": {},
   "outputs": [
    {
     "data": {
      "text/plain": [
       "9"
      ]
     },
     "execution_count": 29,
     "metadata": {},
     "output_type": "execute_result"
    }
   ],
   "source": [
    "# XOR [^]\n",
    "# Переключим соостветствующие маске биты (вычитание + сложение)\n",
    "flags = 9     #00001001\n",
    "mask = 1      #00000001\n",
    "flags ^= mask #00001000\n",
    "flags ^= mask #00001001\n",
    "flags"
   ]
  },
  {
   "cell_type": "code",
   "execution_count": 34,
   "id": "9864439f-9855-47fb-bccd-f887c958b95d",
   "metadata": {},
   "outputs": [
    {
     "data": {
      "text/plain": [
       "80"
      ]
     },
     "execution_count": 34,
     "metadata": {},
     "output_type": "execute_result"
    }
   ],
   "source": [
    "#Смещение бит \n",
    "#>> вправо (деление на 2 в n степени нацело)\n",
    "n = 1\n",
    "x = 160 #10100000\n",
    "x = x >> n #01010000\n",
    "x\n"
   ]
  },
  {
   "cell_type": "code",
   "execution_count": 37,
   "id": "10a46eab-a719-4c81-8df0-7399084abd93",
   "metadata": {},
   "outputs": [
    {
     "data": {
      "text/plain": [
       "320"
      ]
     },
     "execution_count": 37,
     "metadata": {},
     "output_type": "execute_result"
    }
   ],
   "source": [
    "#<< влево (умножение на 2 в n степени)\n",
    "n = 1\n",
    "x = 160 #10100000\n",
    "x = x << n #101000000\n",
    "x"
   ]
  },
  {
   "cell_type": "code",
   "execution_count": null,
   "id": "757d9857-195c-41a9-9335-3b14c8eb3f89",
   "metadata": {},
   "outputs": [],
   "source": []
  }
 ],
 "metadata": {
  "kernelspec": {
   "display_name": "Python 3 (ipykernel)",
   "language": "python",
   "name": "python3"
  },
  "language_info": {
   "codemirror_mode": {
    "name": "ipython",
    "version": 3
   },
   "file_extension": ".py",
   "mimetype": "text/x-python",
   "name": "python",
   "nbconvert_exporter": "python",
   "pygments_lexer": "ipython3",
   "version": "3.9.13"
  }
 },
 "nbformat": 4,
 "nbformat_minor": 5
}
